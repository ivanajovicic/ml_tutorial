{
 "cells": [
  {
   "cell_type": "code",
   "execution_count": 1,
   "metadata": {},
   "outputs": [],
   "source": [
    "import numpy as np\n",
    "import pandas as pd\n",
    "import xgboost\n",
    "from sklearn.datasets import make_classification, make_moons, make_circles\n",
    "from sklearn.preprocessing import StandardScaler"
   ]
  },
  {
   "cell_type": "code",
   "execution_count": 2,
   "metadata": {},
   "outputs": [],
   "source": [
    "%matplotlib inline\n",
    "\n",
    "\n",
    "import seaborn as sns\n",
    "\n",
    "import matplotlib.pyplot as plt\n",
    "#!pip install plotly\n",
    "import plotly\n",
    "import plotly.graph_objs as go\n",
    "\n",
    "from matplotlib.colors import ListedColormap"
   ]
  },
  {
   "cell_type": "markdown",
   "metadata": {},
   "source": [
    "How big dataset?"
   ]
  },
  {
   "cell_type": "code",
   "execution_count": 3,
   "metadata": {},
   "outputs": [],
   "source": [
    "n_rows = int(1e4) #10M rows\n",
    "n_columns = int(100)\n",
    "n_classes = 2\n",
    "\n"
   ]
  },
  {
   "cell_type": "code",
   "execution_count": 4,
   "metadata": {},
   "outputs": [
    {
     "name": "stdout",
     "output_type": "stream",
     "text": [
      "         x1        x2        x3        x4        x5        x6        x7  \\\n",
      "0  0.493722  1.003377  0.567122 -2.078380  0.486073  2.728119  1.390538   \n",
      "1  0.155916  1.160258 -1.153349 -0.084261 -0.415886  1.923980 -0.667563   \n",
      "2 -1.821358  1.895874  1.301383 -0.706522  0.264518 -2.222414 -1.329729   \n",
      "3 -0.270944 -0.499991  2.259192  0.600572 -0.613155 -1.472841 -0.404570   \n",
      "4 -0.665526 -0.395929  0.724794 -0.764808 -0.986461  0.168381 -0.932520   \n",
      "\n",
      "         x8        x9       x10  ...       x92       x93       x94       x95  \\\n",
      "0 -0.545780  1.657025 -0.159087  ... -0.127669  0.251150 -0.759959 -0.043082   \n",
      "1  2.487999 -0.543920  1.702723  ...  0.701373  2.125454 -1.762217  4.872770   \n",
      "2  0.965604  1.174375 -1.380014  ...  0.122855  0.813238  2.023493  2.237147   \n",
      "3 -0.257546 -1.962031 -0.146880  ... -1.997139  0.054975  1.323091 -2.431615   \n",
      "4 -0.425686  0.369523  0.125641  ... -0.171411 -0.677577 -0.451854 -4.012032   \n",
      "\n",
      "        x96       x97       x98       x99      x100  y  \n",
      "0 -0.288428  0.201725  0.620960  0.691615  0.172173  0  \n",
      "1  1.003413  0.229756 -0.719859  0.882822 -0.648526  1  \n",
      "2 -0.278500  0.781450  0.691553 -0.230867  1.409695  0  \n",
      "3 -0.133755  0.122277 -1.462973 -2.004867 -0.300016  0  \n",
      "4 -0.380083  1.321328  0.934393  1.088176  0.597711  1  \n",
      "\n",
      "[5 rows x 101 columns]\n"
     ]
    }
   ],
   "source": [
    "df = make_classification(n_samples=n_rows, \n",
    "                         n_features=n_columns,\n",
    "                         n_classes=n_classes, \n",
    "                         n_informative=int(n_columns/5),\n",
    "                         n_clusters_per_class = 1,\n",
    "                         class_sep = 1.0,\n",
    "                         flip_y=0.2,\n",
    "                         random_state=1)\n",
    "pd_df = pd.DataFrame(df[0],columns=['x'+str(i) for i in range(1,n_columns+1)])\n",
    "pd_df['y'] = df[1]\n",
    "print(pd_df.head())"
   ]
  },
  {
   "cell_type": "markdown",
   "metadata": {},
   "source": [
    "###  1. Train / Test split "
   ]
  },
  {
   "cell_type": "code",
   "execution_count": 5,
   "metadata": {},
   "outputs": [],
   "source": [
    "X, y = df[0],df[1]"
   ]
  },
  {
   "cell_type": "code",
   "execution_count": 6,
   "metadata": {},
   "outputs": [],
   "source": [
    "from sklearn.model_selection import train_test_split\n",
    "\n",
    "X_train, X_test, y_train, y_test = train_test_split(X, y, test_size=0.2, random_state=123)"
   ]
  },
  {
   "cell_type": "code",
   "execution_count": 7,
   "metadata": {},
   "outputs": [
    {
     "data": {
      "text/plain": [
       "(8000, 2000)"
      ]
     },
     "execution_count": 7,
     "metadata": {},
     "output_type": "execute_result"
    }
   ],
   "source": [
    "len(X_train), len(X_test)\n"
   ]
  },
  {
   "cell_type": "code",
   "execution_count": 8,
   "metadata": {},
   "outputs": [
    {
     "name": "stdout",
     "output_type": "stream",
     "text": [
      "CPU times: user 1.77 s, sys: 165 ms, total: 1.93 s\n",
      "Wall time: 1.77 s\n"
     ]
    }
   ],
   "source": [
    "%%time\n",
    "pd.DataFrame(data = X_train).to_csv('X_train.csv')\n",
    "pd.DataFrame(data = X_test).to_csv('X_test.csv')\n",
    "pd.DataFrame(data = y_train).to_csv('y_train.csv')\n",
    "pd.DataFrame(data = y_test).to_csv('y_test.csv')"
   ]
  },
  {
   "cell_type": "code",
   "execution_count": null,
   "metadata": {},
   "outputs": [],
   "source": [
    "\n",
    "    "
   ]
  },
  {
   "cell_type": "code",
   "execution_count": null,
   "metadata": {},
   "outputs": [],
   "source": []
  }
 ],
 "metadata": {
  "kernelspec": {
   "display_name": "Python 3",
   "language": "python",
   "name": "python3"
  },
  "language_info": {
   "codemirror_mode": {
    "name": "ipython",
    "version": 3
   },
   "file_extension": ".py",
   "mimetype": "text/x-python",
   "name": "python",
   "nbconvert_exporter": "python",
   "pygments_lexer": "ipython3",
   "version": "3.6.9"
  }
 },
 "nbformat": 4,
 "nbformat_minor": 4
}
