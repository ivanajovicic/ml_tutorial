{
 "cells": [
  {
   "cell_type": "markdown",
   "metadata": {},
   "source": [
    "<img width = 85% src='rapids_motivation.png'>"
   ]
  },
  {
   "cell_type": "markdown",
   "metadata": {},
   "source": [
    "<img width = 75% src='choices.png'>"
   ]
  },
  {
   "cell_type": "markdown",
   "metadata": {},
   "source": [
    "### Overview \n",
    "1 -- load the dataset [ classification ]\n",
    "Has categorical columns converted to ordinal and target variable \"Arrival Delay\" converted to binary target.\n",
    "\n",
    "Dimensions: 115M rows, 13 columns.\n",
    "Task: Binary classification\n",
    "2 -- go through a data science pipeline [ pre-processing , splitting , viz ]\n",
    "\n",
    "3 -- model building [ xgboost ]\n",
    "> hyper-parameters [ max-depth, nTrees, learning rate, regularization ... ]\n",
    "\n",
    "> demonstrate performance [ CPU vs 1 GPU ]\n",
    "\n",
    "4 -- scaling and hyper-parameter search\n",
    "> dask + rapids [ xgboost ]\n",
    "    \n",
    "5 -- visualize search and reveal best model parameters\n",
    "\n",
    "TODO - generate figures that caputre benefit of GPU scaling\n",
    "\n",
    "6 -- extensions[ multi-node [ dask kubernetes ], dask_xgboost [ larger dataset ] ]"
   ]
  },
  {
   "cell_type": "code",
   "execution_count": 1,
   "metadata": {},
   "outputs": [],
   "source": [
    "import os\n",
    "import sys\n",
    "from enum import Enum\n",
    "\n",
    "if sys.version_info[0] >= 3:\n",
    "    from urllib.request import urlretrieve  # pylint: disable=import-error,no-name-in-module\n",
    "else:\n",
    "    from urllib import urlretrieve  # pylint: disable=import-error,no-name-in-module\n",
    "\n",
    "class LearningTask(Enum):\n",
    "    REGRESSION = 1\n",
    "    CLASSIFICATION = 2\n",
    "    MULTICLASS_CLASSIFICATION = 3\n",
    "\n",
    "class Data:  # pylint: disable=too-few-public-methods,too-many-arguments\n",
    "    def __init__(self, X_train, X_test, y_train, y_test, learning_task, qid_train=None,\n",
    "                 qid_test=None):\n",
    "        self.X_train = X_train\n",
    "        self.X_test = X_test\n",
    "        self.y_train = y_train\n",
    "        self.y_test = y_test\n",
    "        self.learning_task = learning_task\n",
    "        # For ranking task\n",
    "        self.qid_train = qid_train\n",
    "        self.qid_test = qid_test\n",
    " \n",
    "      \n",
    "        "
   ]
  },
  {
   "cell_type": "code",
   "execution_count": 2,
   "metadata": {},
   "outputs": [],
   "source": [
    "import pickle\n",
    "import pandas as pd\n",
    "from sklearn.model_selection import train_test_split\n",
    "import numpy as np; import numpy.matlib\n"
   ]
  },
  {
   "cell_type": "code",
   "execution_count": 3,
   "metadata": {},
   "outputs": [],
   "source": [
    "import ipyvolume as ipv"
   ]
  },
  {
   "cell_type": "code",
   "execution_count": 4,
   "metadata": {},
   "outputs": [],
   "source": [
    "import matplotlib.pyplot as plt\n",
    "from mpl_toolkits.mplot3d import Axes3D"
   ]
  },
  {
   "cell_type": "code",
   "execution_count": 5,
   "metadata": {},
   "outputs": [],
   "source": [
    "# algos, datasets\n",
    "import xgboost; from xgboost import plot_tree\n",
    "from sklearn import datasets; from sklearn.metrics import confusion_matrix, accuracy_score"
   ]
  },
  {
   "cell_type": "code",
   "execution_count": 6,
   "metadata": {},
   "outputs": [],
   "source": [
    "import cupy\n",
    "import cudf"
   ]
  },
  {
   "cell_type": "code",
   "execution_count": 7,
   "metadata": {},
   "outputs": [],
   "source": [
    "import time"
   ]
  },
  {
   "cell_type": "code",
   "execution_count": 8,
   "metadata": {},
   "outputs": [
    {
     "data": {
      "text/plain": [
       "<module 'rapids_lib_v10' from '/rapids/notebooks/HPO_realdata/rapids_lib_v10.py'>"
      ]
     },
     "execution_count": 8,
     "metadata": {},
     "output_type": "execute_result"
    }
   ],
   "source": [
    "import rapids_lib_v10 as rl\n",
    "''' NOTE: anytime changes are made to rapids_lib.py you can either:\n",
    "      1. refresh/reload via the code below, OR\n",
    "      2. restart the kernel '''\n",
    "import importlib; importlib.reload(rl)"
   ]
  },
  {
   "cell_type": "code",
   "execution_count": null,
   "metadata": {},
   "outputs": [],
   "source": []
  },
  {
   "cell_type": "markdown",
   "metadata": {},
   "source": [
    "# Data Loading"
   ]
  },
  {
   "cell_type": "code",
   "execution_count": 9,
   "metadata": {},
   "outputs": [],
   "source": [
    "def prepare_airline(dataset_folder, nrows):  # pylint: disable=too-many-locals\n",
    "    url = 'http://kt.ijs.si/elena_ikonomovska/datasets/airline/airline_14col.data.bz2'\n",
    "    local_url = os.path.join(dataset_folder, os.path.basename(url))\n",
    "    pickle_url = os.path.join(dataset_folder,\n",
    "                              \"airline\"\n",
    "                              + (\"\" if nrows is None else \"-\" + str(nrows)) + \".pkl\")\n",
    "    if os.path.exists(pickle_url):\n",
    "        return pickle.load(open(pickle_url, \"rb\"))\n",
    "    if not os.path.isfile(local_url):\n",
    "        urlretrieve(url, local_url)\n",
    "\n",
    "    cols = [\n",
    "        \"Year\", \"Month\", \"DayofMonth\", \"DayofWeek\", \"CRSDepTime\",\n",
    "        \"CRSArrTime\", \"UniqueCarrier\", \"FlightNum\", \"ActualElapsedTime\",\n",
    "        \"Origin\", \"Dest\", \"Distance\", \"Diverted\", \"ArrDelay\"\n",
    "    ]\n",
    "\n",
    "    # load the data as int16\n",
    "    dtype = np.int16\n",
    "\n",
    "    dtype_columns = {\n",
    "        \"Year\": dtype, \"Month\": dtype, \"DayofMonth\": dtype, \"DayofWeek\": dtype,\n",
    "        \"CRSDepTime\": dtype, \"CRSArrTime\": dtype, \"FlightNum\": dtype,\n",
    "        \"ActualElapsedTime\": dtype, \"Distance\":\n",
    "            dtype,\n",
    "        \"Diverted\": dtype, \"ArrDelay\": dtype,\n",
    "    }\n",
    "\n",
    "    df =pd.read_csv(local_url,\n",
    "                     names=cols, dtype=dtype_columns, nrows=nrows)\n",
    "\n",
    "    # Encode categoricals as numeric\n",
    "    for col in df.select_dtypes(['object']).columns:\n",
    "        df[col] = df[col].astype(\"category\").cat.codes\n",
    "\n",
    "    # Turn into binary classification problem\n",
    "    df[\"ArrDelayBinary\"] = 1 * (df[\"ArrDelay\"] > 0)\n",
    "\n",
    "    X = df[df.columns.difference([\"ArrDelay\", \"ArrDelayBinary\"])]\n",
    "    y = df[\"ArrDelayBinary\"]\n",
    "    del df\n",
    "    X_train, X_test, y_train, y_test = train_test_split(X, y, random_state=77,\n",
    "                                                        test_size=0.2,\n",
    "                                                        )\n",
    "    data = Data(X_train, X_test, y_train, y_test, LearningTask.CLASSIFICATION)\n",
    "    pickle.dump(data, open(pickle_url, \"wb\"), protocol=4)\n",
    "    return data\n",
    "\n"
   ]
  },
  {
   "cell_type": "code",
   "execution_count": 10,
   "metadata": {},
   "outputs": [],
   "source": [
    "num_rows = 40000000\n",
    "higgs_df = prepare_airline(\".\", nrows= num_rows)"
   ]
  },
  {
   "cell_type": "code",
   "execution_count": 11,
   "metadata": {},
   "outputs": [
    {
     "name": "stdout",
     "output_type": "stream",
     "text": [
      "56\n"
     ]
    }
   ],
   "source": [
    "print(sys.getsizeof(higgs_df))"
   ]
  },
  {
   "cell_type": "code",
   "execution_count": 12,
   "metadata": {},
   "outputs": [],
   "source": [
    "trainData_pDF = higgs_df.X_train\n",
    "testData_pDF = higgs_df.X_test\n",
    "trainLabels_pDF = higgs_df.y_train.to_frame()\n",
    "testLabels_pDF = higgs_df.y_test.to_frame()"
   ]
  },
  {
   "cell_type": "code",
   "execution_count": 13,
   "metadata": {},
   "outputs": [],
   "source": [
    "trainData_cDF = cudf.DataFrame.from_pandas(trainData_pDF)\n",
    "testData_cDF = cudf.DataFrame.from_pandas(testData_pDF)\n",
    "trainLabels_cDF = cudf.DataFrame.from_pandas(trainLabels_pDF)\n",
    "testLabels_cDF = cudf.DataFrame.from_pandas(testLabels_pDF)"
   ]
  },
  {
   "cell_type": "markdown",
   "metadata": {},
   "source": [
    "# Split train and test data "
   ]
  },
  {
   "cell_type": "code",
   "execution_count": null,
   "metadata": {},
   "outputs": [],
   "source": []
  },
  {
   "cell_type": "code",
   "execution_count": 14,
   "metadata": {},
   "outputs": [],
   "source": [
    "expLog = {}"
   ]
  },
  {
   "cell_type": "markdown",
   "metadata": {},
   "source": [
    "# Training and Evaluating a Single Model on CPU and GPU"
   ]
  },
  {
   "cell_type": "code",
   "execution_count": 15,
   "metadata": {},
   "outputs": [],
   "source": [
    "''' -------------------------------------------------------------------------\n",
    ">  GPU Train and Test\n",
    "------------------------------------------------------------------------- '''\n",
    "def train_model_GPU (trainData_cDF, testData_cDF, paramsGPU = {}):    \n",
    "    print('training xgboost model on GPU');  \n",
    "    startTime = time.time()    \n",
    "    \n",
    "    trainDMatrix = xgboost.DMatrix( trainData_cDF.to_pandas(), label = trainLabels_cDF.to_pandas())    \n",
    "    trainedModelGPU = xgboost.train( dtrain = trainDMatrix, params = paramsGPU, num_boost_round = paramsGPU['num_boost_rounds'] )\n",
    "    \n",
    "    return trainedModelGPU, time.time() - startTime\n",
    "\n",
    "def test_model_GPU ( trainedModelGPU, testData_cDF, testLabels_cDF ):\n",
    "    print('testing xgboost model on GPU')\n",
    "    startTime = time.time()   \n",
    "    \n",
    "    testDMatrix = xgboost.DMatrix( data = testData_cDF.to_pandas(), label = testLabels_cDF.to_pandas())    \n",
    "    predictionsGPU = trainedModelGPU.predict(testDMatrix)\n",
    "    \n",
    "    return predictionsGPU, time.time() - startTime\n",
    "\n",
    "''' -------------------------------------------------------------------------\n",
    ">  CPU Train and Test\n",
    "------------------------------------------------------------------------- '''\n",
    "def train_model_CPU (trainData_cDF, trainLabels_cDF, paramsCPU = {}):    \n",
    "    print('training xgboost model on {} CPU cores'.format(nCores) )\n",
    "\n",
    "    startTime = time.time()\n",
    "    \n",
    "    trainDMatrix = xgboost.DMatrix( trainData_cDF.to_pandas(), label = trainLabels_cDF.to_pandas())\n",
    "    \n",
    "    xgBoostModelCPU = xgboost.train( dtrain = trainDMatrix, params = paramsCPU, num_boost_round = paramsCPU['num_boost_rounds'])\n",
    "    \n",
    "    return xgBoostModelCPU, time.time() - startTime\n",
    "\n",
    "def test_model_CPU ( trainedModelCPU, testData_cDF, testLabels_cDF ):\n",
    "    print('testing xgboost model on CPU')\n",
    "    startTime = time.time()\n",
    "    \n",
    "    testDMatrix = xgboost.DMatrix( testData_cDF.to_pandas(), label = testLabels_cDF.to_pandas())\n",
    "    predictionsCPU = trainedModelCPU.predict(testDMatrix)\n",
    "    \n",
    "    return predictionsCPU, time.time() - startTime"
   ]
  },
  {
   "cell_type": "markdown",
   "metadata": {},
   "source": [
    "### Define model parameters\n",
    "https://xgboost.readthedocs.io/en/latest/parameter.html"
   ]
  },
  {
   "cell_type": "code",
   "execution_count": 16,
   "metadata": {},
   "outputs": [],
   "source": [
    "nCores = !nproc --all\n",
    "nCores = int(nCores[0])\n",
    "\n",
    "paramsCPU = {\n",
    "    'max_depth': 3,\n",
    "    'num_boost_rounds': 100,    \n",
    "    'learning_rate': .1,\n",
    "    'lambda': 1,    \n",
    "    'objective': 'binary:hinge',\n",
    "    'tree_method': 'hist',\n",
    "    'n_jobs': nCores,\n",
    "    'random_state': 0\n",
    "}\n",
    "\n",
    "paramsGPU = {\n",
    "    'max_depth': 3,\n",
    "    'num_boost_rounds': 100,\n",
    "    'learning_rate': .1,\n",
    "    'lambda': 1,    \n",
    "    'objective': 'binary:hinge',\n",
    "    'tree_method': 'gpu_hist',\n",
    "    'n_gpus': 1,    \n",
    "    'random_state': 0\n",
    "}"
   ]
  },
  {
   "cell_type": "markdown",
   "metadata": {},
   "source": [
    "### **CPU** Training and Inference"
   ]
  },
  {
   "cell_type": "code",
   "execution_count": 17,
   "metadata": {},
   "outputs": [
    {
     "name": "stdout",
     "output_type": "stream",
     "text": [
      "training xgboost model on 40 CPU cores\n"
     ]
    }
   ],
   "source": [
    "trainedModelCPU, t_trainCPU = train_model_CPU ( trainData_cDF, trainLabels_cDF, paramsCPU )"
   ]
  },
  {
   "cell_type": "code",
   "execution_count": 18,
   "metadata": {},
   "outputs": [
    {
     "name": "stdout",
     "output_type": "stream",
     "text": [
      "testing xgboost model on CPU\n"
     ]
    }
   ],
   "source": [
    "predictionsCPU, t_inferCPU = test_model_CPU ( trainedModelCPU, testData_cDF, testLabels_cDF)"
   ]
  },
  {
   "cell_type": "code",
   "execution_count": 19,
   "metadata": {},
   "outputs": [
    {
     "name": "stdout",
     "output_type": "stream",
     "text": [
      " + adding log entry [ CPU_model_training       :  99.90160 s ]\n",
      " + adding log entry [ CPU_model_inference      :   4.70468 s ]\n"
     ]
    }
   ],
   "source": [
    "expLog = rl.update_log( expLog, [['CPU_model_training', t_trainCPU], ['CPU_model_inference', t_inferCPU]] ); "
   ]
  },
  {
   "cell_type": "markdown",
   "metadata": {},
   "source": [
    "### **GPU** Model Training and Inference"
   ]
  },
  {
   "cell_type": "code",
   "execution_count": 20,
   "metadata": {},
   "outputs": [
    {
     "name": "stdout",
     "output_type": "stream",
     "text": [
      "training xgboost model on GPU\n"
     ]
    }
   ],
   "source": [
    "trainedModelGPU, t_trainGPU = train_model_GPU ( trainData_cDF, trainLabels_cDF, paramsGPU )"
   ]
  },
  {
   "cell_type": "code",
   "execution_count": 21,
   "metadata": {},
   "outputs": [
    {
     "name": "stdout",
     "output_type": "stream",
     "text": [
      "testing xgboost model on GPU\n"
     ]
    }
   ],
   "source": [
    "predictionsGPU, t_inferGPU = test_model_GPU ( trainedModelGPU, testData_cDF, testLabels_cDF)"
   ]
  },
  {
   "cell_type": "code",
   "execution_count": 22,
   "metadata": {},
   "outputs": [
    {
     "name": "stdout",
     "output_type": "stream",
     "text": [
      " + adding log entry [ GPU_model_training       :  16.99448 s ]\n",
      " + adding log entry [ GPU_model_inference      :   3.04890 s ]\n"
     ]
    }
   ],
   "source": [
    "expLog = rl.update_log( expLog, [['GPU_model_training', t_trainGPU], ['GPU_model_inference', t_inferGPU]] ); "
   ]
  },
  {
   "cell_type": "code",
   "execution_count": 23,
   "metadata": {},
   "outputs": [
    {
     "data": {
      "text/plain": [
       "dict"
      ]
     },
     "execution_count": 23,
     "metadata": {},
     "output_type": "execute_result"
    }
   ],
   "source": [
    "type(expLog)"
   ]
  },
  {
   "cell_type": "markdown",
   "metadata": {},
   "source": [
    "### Compare CPU and GPU Accuracy [ plot on train and test ]"
   ]
  },
  {
   "cell_type": "code",
   "execution_count": 24,
   "metadata": {},
   "outputs": [
    {
     "name": "stdout",
     "output_type": "stream",
     "text": [
      "testing xgboost model on CPU\n",
      "testing xgboost model on GPU\n",
      "train data CPU accuracy = 0.6291755625\n",
      "train data GPU accuracy = 0.6291755625\n",
      "test data CPU accuracy = 0.62902575\n",
      "test data GPU accuracy = 0.62902575\n"
     ]
    }
   ],
   "source": [
    "trainLabels_pDF = trainLabels_cDF.to_pandas()\n",
    "testLabels_pDF = testLabels_cDF.to_pandas()\n",
    "\n",
    "trainPredictionsCPU, _ = test_model_CPU ( trainedModelCPU, trainData_cDF, trainLabels_cDF)\n",
    "trainPredictionsGPU, _ = test_model_GPU ( trainedModelGPU, trainData_cDF, trainLabels_cDF)\n",
    "trainAccuracyCPU = accuracy_score(trainLabels_pDF, trainPredictionsCPU)\n",
    "trainAccuracyGPU = accuracy_score(trainLabels_pDF, trainPredictionsGPU)\n",
    "print( 'train data CPU accuracy = {}'.format( trainAccuracyCPU ) )\n",
    "print( 'train data GPU accuracy = {}'.format( trainAccuracyGPU ) )\n",
    "\n",
    "accuracyCPU = accuracy_score(testLabels_pDF, predictionsCPU)\n",
    "accuracyGPU = accuracy_score(testLabels_pDF, predictionsGPU)\n",
    "print( 'test data CPU accuracy = {}'.format( accuracyCPU ) )\n",
    "print( 'test data GPU accuracy = {}'.format( accuracyGPU ) )"
   ]
  },
  {
   "cell_type": "code",
   "execution_count": 25,
   "metadata": {},
   "outputs": [
    {
     "name": "stdout",
     "output_type": "stream",
     "text": [
      "[[1852659 2031666]\n",
      " [ 936128 3179547]]\n"
     ]
    }
   ],
   "source": [
    "cMat = confusion_matrix(testLabels_pDF, predictionsGPU)\n",
    "print(cMat)"
   ]
  },
  {
   "cell_type": "markdown",
   "metadata": {},
   "source": [
    "### Visualize the first decision tree"
   ]
  },
  {
   "cell_type": "code",
   "execution_count": 26,
   "metadata": {},
   "outputs": [
    {
     "name": "stdout",
     "output_type": "stream",
     "text": [
      "CPU times: user 64.6 ms, sys: 360 ms, total: 424 ms\n",
      "Wall time: 823 ms\n"
     ]
    },
    {
     "data": {
      "image/png": "[encoded data removed]",
      "text/plain": [
       "<Figure size 7200x3600 with 1 Axes>"
      ]
     },
     "metadata": {
      "needs_background": "light"
     },
     "output_type": "display_data"
    }
   ],
   "source": [
    "%%time\n",
    "fig = plt.figure(figsize=(100,50))\n",
    "plot_tree(trainedModelGPU, num_trees=0, ax=plt.subplot(1,1,1))"
   ]
  },
  {
   "cell_type": "code",
   "execution_count": 27,
   "metadata": {},
   "outputs": [
    {
     "data": {
      "text/plain": [
       "{'CPU_model_training': 99.90159583091736,\n",
       " 'CPU_model_inference': 4.704684734344482,\n",
       " 'GPU_model_training': 16.99447751045227,\n",
       " 'GPU_model_inference': 3.0489003658294678}"
      ]
     },
     "execution_count": 27,
     "metadata": {},
     "output_type": "execute_result"
    }
   ],
   "source": [
    "expLog"
   ]
  },
  {
   "cell_type": "markdown",
   "metadata": {},
   "source": [
    "# Parameter Search          \n",
    "> TODO: ADD early stopping "
   ]
  },
  {
   "cell_type": "markdown",
   "metadata": {},
   "source": [
    "### Initialize Dask"
   ]
  },
  {
   "cell_type": "code",
   "execution_count": 28,
   "metadata": {},
   "outputs": [],
   "source": [
    "kube_ip = !echo $KUBEFLOW_CONTROLLER_SERVICE_HOST\n",
    "if kube_ip[0]:\n",
    "    dask_type = \"k8s\"\n",
    "else:\n",
    "    dask_type = \"local\""
   ]
  },
  {
   "cell_type": "code",
   "execution_count": 29,
   "metadata": {},
   "outputs": [],
   "source": [
    "# !pip install dask_kubernetes"
   ]
  },
  {
   "cell_type": "code",
   "execution_count": 30,
   "metadata": {},
   "outputs": [],
   "source": [
    "import dask\n",
    "from dask import delayed\n",
    "from dask_cuda import LocalCUDACluster\n",
    "from dask_kubernetes import KubeCluster\n",
    "from dask.distributed import Client\n",
    "from time import sleep # We need to give K8S some time to manually scale workers"
   ]
  },
  {
   "cell_type": "code",
   "execution_count": 31,
   "metadata": {},
   "outputs": [
    {
     "name": "stdout",
     "output_type": "stream",
     "text": [
      "0.90.rapidsdev1\n"
     ]
    }
   ],
   "source": [
    "import xgboost;\n",
    "print( xgboost.__version__ )"
   ]
  },
  {
   "cell_type": "markdown",
   "metadata": {},
   "source": [
    "#### Define the Kubernetes Dask Spec"
   ]
  },
  {
   "cell_type": "code",
   "execution_count": 32,
   "metadata": {},
   "outputs": [],
   "source": [
    "worker_spec_fname = '/worker_spec.yaml'\n",
    "worker_spec = '''\n",
    "# worker-spec.yml\n",
    "\n",
    "kind: Pod\n",
    "metadata:\n",
    "  labels:\n",
    "    foo: bar\n",
    "spec:\n",
    "  restartPolicy: Never\n",
    "  containers:\n",
    "  - image: supertetelman/k8s-rapids-dask:0.9-cuda10.0-runtime-ubuntu18.04\n",
    "    imagePullPolicy: IfNotPresent\n",
    "    args: [dask-worker,  --nthreads, '1', --no-bokeh, --memory-limit, 6GB, --death-timeout, '60']\n",
    "    name: dask\n",
    "    resources:\n",
    "      limits:\n",
    "        cpu: \"2\"\n",
    "        memory: 6G\n",
    "        nvidia.com/gpu: 1\n",
    "      requests:\n",
    "        cpu: \"2\"\n",
    "        memory: 6G\n",
    "        nvidia.com/gpu: 1\n",
    "'''\n",
    "\n",
    "with open(worker_spec_fname, \"w\") as yaml_file:\n",
    "    yaml_file.write(worker_spec)"
   ]
  },
  {
   "cell_type": "markdown",
   "metadata": {},
   "source": []
  },
  {
   "cell_type": "code",
   "execution_count": 33,
   "metadata": {},
   "outputs": [],
   "source": [
    "def scale_cluster(cluster, n, m=None):\n",
    "    if dask_type != \"k8s\":\n",
    "        print(\"Cannot scale non-K8S cluster\")\n",
    "        return\n",
    "    if m is None:\n",
    "        print(f'Scaling to {n} nodes')\n",
    "        cluster.scale(n)\n",
    "    else:\n",
    "        print(f'Setting Scaling to adapatve, [{n}, {m}]')\n",
    "        cluster.adapt(minimum = n, maximum = m)\n",
    "    sleep(10)"
   ]
  },
  {
   "cell_type": "markdown",
   "metadata": {},
   "source": [
    "### Set number of workers [ changes require kernel restart ]"
   ]
  },
  {
   "cell_type": "code",
   "execution_count": 34,
   "metadata": {},
   "outputs": [],
   "source": [
    "if dask_type == \"k8s\":\n",
    "    cluster = KubeCluster.from_yaml(worker_spec_fname)\n",
    "    scale_cluster(cluster, 4)\n",
    "else:\n",
    "    cluster = LocalCUDACluster(ip=\"\", n_workers = 4)\n",
    "\n",
    "client = Client(cluster)"
   ]
  },
  {
   "cell_type": "code",
   "execution_count": 35,
   "metadata": {},
   "outputs": [
    {
     "data": {
      "text/html": [
       "<table style=\"border: 2px solid white;\">\n",
       "<tr>\n",
       "<td style=\"vertical-align: top; border: 0px solid white\">\n",
       "<h3 style=\"text-align: left;\">Client</h3>\n",
       "<ul style=\"text-align: left; list-style: none; margin: 0; padding: 0;\">\n",
       "  <li><b>Scheduler: </b>tcp://192.168.99.4:41431</li>\n",
       "  <li><b>Dashboard: </b><a href='http://192.168.99.4:8787/status' target='_blank'>http://192.168.99.4:8787/status</a>\n",
       "</ul>\n",
       "</td>\n",
       "<td style=\"vertical-align: top; border: 0px solid white\">\n",
       "<h3 style=\"text-align: left;\">Cluster</h3>\n",
       "<ul style=\"text-align: left; list-style:none; margin: 0; padding: 0;\">\n",
       "  <li><b>Workers: </b>4</li>\n",
       "  <li><b>Cores: </b>4</li>\n",
       "  <li><b>Memory: </b>270.39 GB</li>\n",
       "</ul>\n",
       "</td>\n",
       "</tr>\n",
       "</table>"
      ],
      "text/plain": [
       "<Client: scheduler='tcp://192.168.99.4:41431' processes=4 cores=4>"
      ]
     },
     "execution_count": 35,
     "metadata": {},
     "output_type": "execute_result"
    }
   ],
   "source": [
    "\n",
    "client"
   ]
  },
  {
   "cell_type": "code",
   "execution_count": 36,
   "metadata": {},
   "outputs": [
    {
     "data": {
      "application/vnd.jupyter.widget-view+json": {
       "model_id": "b4aacfeb687942adab7f962e3b7f8c32",
       "version_major": 2,
       "version_minor": 0
      },
      "text/plain": [
       "VBox(children=(HTML(value='<h2>LocalCUDACluster</h2>'), HBox(children=(HTML(value='\\n<div>\\n  <style scoped>\\n…"
      ]
     },
     "metadata": {},
     "output_type": "display_data"
    }
   ],
   "source": [
    "cluster"
   ]
  },
  {
   "cell_type": "markdown",
   "metadata": {},
   "source": [
    "### Pre-scatter Demo"
   ]
  },
  {
   "cell_type": "code",
   "execution_count": 37,
   "metadata": {},
   "outputs": [],
   "source": [
    "if client is not None:        \n",
    "    scatteredData_future = client.scatter( [ trainData_cDF, testData_cDF, trainLabels_cDF,testLabels_cDF ], broadcast = True)"
   ]
  },
  {
   "cell_type": "code",
   "execution_count": 38,
   "metadata": {},
   "outputs": [
    {
     "data": {
      "text/plain": [
       "[<Future: status: finished, type: DataFrame, key: DataFrame-1d040d88c8715287965afed8cb407cf2>,\n",
       " <Future: status: finished, type: DataFrame, key: DataFrame-a508d28d029a9723a70dfdfdfa0de545>,\n",
       " <Future: status: finished, type: DataFrame, key: DataFrame-8ee5f22a0cd07ce55c278791b7cdb548>,\n",
       " <Future: status: finished, type: DataFrame, key: DataFrame-c74bd886c3f18ac476971fa8576da3e4>]"
      ]
     },
     "execution_count": 38,
     "metadata": {},
     "output_type": "execute_result"
    }
   ],
   "source": [
    "scatteredData_future"
   ]
  },
  {
   "cell_type": "code",
   "execution_count": 39,
   "metadata": {},
   "outputs": [
    {
     "name": "stdout",
     "output_type": "stream",
     "text": [
      "DataFrame-1d040d88c8715287965afed8cb407cf2 \n",
      " DataFrame-a508d28d029a9723a70dfdfdfa0de545 \n",
      "\n"
     ]
    },
    {
     "data": {
      "text/plain": [
       "{'DataFrame-1d040d88c8715287965afed8cb407cf2': ('tcp://192.168.99.4:39875',\n",
       "  'tcp://192.168.99.4:45655',\n",
       "  'tcp://192.168.99.4:45665',\n",
       "  'tcp://192.168.99.4:42305'),\n",
       " 'DataFrame-8ee5f22a0cd07ce55c278791b7cdb548': ('tcp://192.168.99.4:39875',\n",
       "  'tcp://192.168.99.4:45655',\n",
       "  'tcp://192.168.99.4:45665',\n",
       "  'tcp://192.168.99.4:42305'),\n",
       " 'DataFrame-c74bd886c3f18ac476971fa8576da3e4': ('tcp://192.168.99.4:39875',\n",
       "  'tcp://192.168.99.4:45655',\n",
       "  'tcp://192.168.99.4:45665',\n",
       "  'tcp://192.168.99.4:42305'),\n",
       " 'DataFrame-a508d28d029a9723a70dfdfdfa0de545': ('tcp://192.168.99.4:39875',\n",
       "  'tcp://192.168.99.4:45655',\n",
       "  'tcp://192.168.99.4:45665',\n",
       "  'tcp://192.168.99.4:42305')}"
      ]
     },
     "execution_count": 39,
     "metadata": {},
     "output_type": "execute_result"
    }
   ],
   "source": [
    "print ( '{} \\n {} \\n'.format( scatteredData_future[0].key, scatteredData_future[1].key ) )\n",
    "client.who_has(scatteredData_future)"
   ]
  },
  {
   "cell_type": "markdown",
   "metadata": {},
   "source": [
    "## HPO Strategy - Particle Swarm [ Explore + Exploit ]"
   ]
  },
  {
   "cell_type": "code",
   "execution_count": 40,
   "metadata": {},
   "outputs": [],
   "source": [
    "def update_particles( paramRanges, particlesInTimestep, velocitiesInTimestep, bestParamsIndex, globalBestParams, sBest = .85, sExplore = .1 , deltaTime = 1, randomSeed = None):\n",
    "    \n",
    "    nParticles = particlesInTimestep.shape[ 0 ]\n",
    "    nParameters = particlesInTimestep.shape[ 1 ]    \n",
    "        \n",
    "    globalBestRepeated = numpy.matlib.repmat( np.array( globalBestParams ).reshape( -1, 1 ), nParticles, 1).reshape( nParticles, nParameters )    \n",
    "    \n",
    "    if randomSeed is not None:\n",
    "        np.random.seed(randomSeed)\n",
    "        \n",
    "    # move to best + explore | globalBest + personalBest\n",
    "    velocitiesInTimestep += 0. * velocitiesInTimestep + sBest * ( globalBestRepeated - particlesInTimestep ) \\\n",
    "                            + sExplore * ( np.random.randn( nParticles, nParameters ) )\n",
    "    \n",
    "    particlesInTimestep += velocitiesInTimestep * deltaTime \n",
    "    \n",
    "    # TODO: avoid duplicates\n",
    "    \n",
    "    # enforce param bounds\n",
    "    for iParam in range( nParameters ):\n",
    "        particlesInTimestep[ :, iParam ] = np.clip(particlesInTimestep[ :, iParam ], paramRanges[iParam][1], paramRanges[iParam][2])\n",
    "        if paramRanges[iParam][3] == 'int':\n",
    "            particlesInTimestep[ :, iParam ] = np.round( particlesInTimestep[ :, iParam ] )\n",
    "            \n",
    "    return particlesInTimestep, velocitiesInTimestep\n",
    "    "
   ]
  },
  {
   "cell_type": "markdown",
   "metadata": {},
   "source": [
    "## HPO Harness\n",
    "> Particle Evals [ Train and Test Logic ]"
   ]
  },
  {
   "cell_type": "code",
   "execution_count": 41,
   "metadata": {},
   "outputs": [],
   "source": [
    "def train_model_hpo ( trainData_cDF, trainLabels_cDF, testData_cDF, testLabels_cDF, particleParams, iParticle, iTimestep ):\n",
    "    \n",
    "    # fixed parameters\n",
    "    paramsGPU = { 'objective': 'binary:hinge',\n",
    "                  'tree_method': 'gpu_hist',\n",
    "                  'n_gpus': 1,\n",
    "                  'random_state': 0 }\n",
    "    \n",
    "    # parameters to search over\n",
    "    paramsGPU['max_depth'] = int(particleParams[0])\n",
    "    paramsGPU['learning_rate'] = particleParams[1]\n",
    "    paramsGPU['lambda'] = particleParams[2]\n",
    "    paramsGPU['num_boost_rounds'] = 1000\n",
    "    \n",
    "    startTime = time.time()\n",
    "    trainDMatrix = xgboost.DMatrix( data = trainData_cDF, label = trainLabels_cDF )\n",
    "    testDMatrix = xgboost.DMatrix( data = testData_cDF, label = testLabels_cDF )\n",
    "    trainedModelGPU = xgboost.train( dtrain = trainDMatrix, evals = [(testDMatrix, 'test')], \n",
    "                                     params = paramsGPU,\n",
    "                                     num_boost_round = paramsGPU['num_boost_rounds'],\n",
    "                                     early_stopping_rounds = 15,\n",
    "                                     verbose_eval = False )\n",
    "    \n",
    "    elapsedTime = time.time() - startTime\n",
    "    \n",
    "    return trainedModelGPU, elapsedTime\n",
    "\n",
    "def test_model_hpo ( trainedModelGPU, trainingTime, testData_cDF, testLabels_cDF ):\n",
    "    \n",
    "    startTime = time.time()\n",
    "    \n",
    "    testDMatrix = xgboost.DMatrix( data = testData_cDF, label = testLabels_cDF )    \n",
    "    predictionsGPU = trainedModelGPU.predict( testDMatrix ).astype(int)\n",
    "    \n",
    "    return predictionsGPU, trainedModelGPU.best_iteration, trainingTime, time.time() - startTime"
   ]
  },
  {
   "cell_type": "code",
   "execution_count": 42,
   "metadata": {},
   "outputs": [],
   "source": [
    "def run_hpo ( daskClient, nTimesteps, nParticles, paramRanges, trainData_cDF, trainLabels_cDF, testData_cDF, testLabels_cDF, randomSeed = 0, plotFlag = True):\n",
    "    \n",
    "    pandasTestLabels = testLabels_cDF.to_pandas()\n",
    "\n",
    "    if daskClient is not None:\n",
    "        scatteredData_future = daskClient.scatter( [ trainData_cDF, trainLabels_cDF, testData_cDF, testLabels_cDF ], broadcast = True )\n",
    "    \n",
    "    trainData_cDF_future = scatteredData_future[0]; trainLabels_cDF_future = scatteredData_future[1]\n",
    "    testData_cDF_future = scatteredData_future[2]; testLabels_cDF_future = scatteredData_future[3]\n",
    "    \n",
    "    particles, velocities, accuracies, bestParticleIndex, \\\n",
    "        globalBestParticleParams, particleBoostingRounds, particleColors = rl.initialize_particle_swarm ( nTimesteps = nTimesteps, \n",
    "                                                                                                          nParticles = nParticles,\n",
    "                                                                                                          paramRanges = paramRanges,\n",
    "                                                                                                          randomSeed = randomSeed, \n",
    "                                                                                                          plotFlag = plotFlag)\n",
    "    globalBestAccuracy = 0\n",
    "    \n",
    "    trainingTimes = np.zeros (( nTimesteps, nParticles ))    \n",
    "    startTime = time.time()\n",
    "    \n",
    "    predictionHistory = np.zeros((nTimesteps, nParticles, testData_cDF.shape[0]))\n",
    "    \n",
    "    for iTimestep in range (0, nTimesteps ):    \n",
    "        if daskClient is not None:\n",
    "            # [ delayed ] train xgboost models on train data\n",
    "            delayedParticleTrain = [ delayed( train_model_hpo )( trainData_cDF_future, trainLabels_cDF_future, \n",
    "                                                                     testData_cDF_future, testLabels_cDF_future, \n",
    "                                                                     particles[iTimestep, iParticle, : ], \n",
    "                                                                         iParticle, iTimestep) for iParticle in range(nParticles) ]\n",
    "\n",
    "            # [ delayed ] determine number of trees/training-rounds returned early stopping -- used to set particle sizes\n",
    "            delayedParticleRounds = [ iParticle[0].best_iteration for iParticle in delayedParticleTrain ]\n",
    "            \n",
    "            # [delayed ] eval trained models on test/validation data\n",
    "            delayedParticlePredictions = [ delayed( test_model_hpo )(iParticle[0], iParticle[1], \n",
    "                                                                     testData_cDF_future, \n",
    "                                                                     testLabels_cDF_future) for iParticle in delayedParticleTrain ]\n",
    "            \n",
    "            # execute delayed             \n",
    "            particlePredictions = dask.compute( delayedParticlePredictions )[0]            \n",
    "            \n",
    "            \n",
    "            for iParticle in range(nParticles):\n",
    "                predictionHistory[iTimestep, iParticle, :] = particlePredictions[iParticle][0]\n",
    "            #import pdb; pdb.set_trace()\n",
    "            \n",
    "            # compute accuracies of predictions\n",
    "            accuracies[iTimestep, :] = [ accuracy_score ( pandasTestLabels, iParticle[0]) for iParticle in particlePredictions ]\n",
    "            particleBoostingRounds[iTimestep, : ] = [ iParticle[1] for iParticle in particlePredictions ]\n",
    "            trainingTimes[iTimestep, :] = [ iParticle[2] for iParticle in particlePredictions ]\n",
    "            del particlePredictions\n",
    "        else:\n",
    "            for iParticle in range(nParticles):\n",
    "                trainedModels, _ = train_model_hpo ( pandasTrainData, pandasTrainLabels, particles[iTimestep, iParticle, : ], iParticle, iTimestep)\n",
    "                predictions, _ = test_model_hpo( trainedModels, pandasTestData, pandasTestLabels)            \n",
    "                accuracies[iTimestep, iParticle] = accuracy_score (pandasTestLabels, predictions)\n",
    "        \n",
    "        bestParticleIndex[iTimestep+1] = np.argmax( accuracies[iTimestep, :] )\n",
    "        currentBestAccuracy = np.max( accuracies[iTimestep, :] )\n",
    "\n",
    "        print('@ hpo timestep : {}, best accuracy is {}'.format(iTimestep, np.max(accuracies[iTimestep, :])) )\n",
    "        if iTimestep +1 < nTimesteps:            \n",
    "            if currentBestAccuracy > globalBestAccuracy:\n",
    "                print('\\t updating best GLOBAL accuracy')\n",
    "                globalBestAccuracy = currentBestAccuracy\n",
    "                globalBestParticleParams[iTimestep+1] = particles[iTimestep, bestParticleIndex[iTimestep+1], :]\n",
    "            else:\n",
    "                globalBestParticleParams[iTimestep+1] = globalBestParticleParams[iTimestep].copy()\n",
    "            \n",
    "            particles[iTimestep+1, :, :], velocities[iTimestep+1, :, : ] = update_particles ( paramRanges, \n",
    "                                                                                              particles[iTimestep, :, :].copy(),\n",
    "                                                                                              velocities[iTimestep, :, :].copy(), \n",
    "                                                                                              bestParticleIndex[iTimestep+1], \n",
    "                                                                                              globalBestParticleParams[iTimestep+1], randomSeed = iTimestep)\n",
    "            \n",
    "\n",
    "    \n",
    "    particleSizes = particleBoostingRounds/np.max(particleBoostingRounds)*10 + 2\n",
    "    \n",
    "    elapsedTime = time.time() - startTime\n",
    "    \n",
    "    bestParamIndex = np.unravel_index(np.argmax(accuracies, axis=None), accuracies.shape)\n",
    "\n",
    "    # best accuracy\n",
    "    print('highest accuracy               :  {} '.format(accuracies[bestParamIndex[0], bestParamIndex[1]]))\n",
    "    print('   @ timestep {}, particle {} '.format( bestParamIndex[0], bestParamIndex[1]))\n",
    "\n",
    "    print('\\nbest model tree depth          :  {} '.format(particles[bestParamIndex[0], bestParamIndex[1], 0]))\n",
    "    print('best model learning rate       :  {} '.format(particles[bestParamIndex[0], bestParamIndex[1], 1]))\n",
    "    print('best model regularization      :  {} '.format(particles[bestParamIndex[0], bestParamIndex[1], 2]))\n",
    "    print('best model num boosting rounds :  {} '.format(int(particleBoostingRounds[bestParamIndex[0], bestParamIndex[1]])))\n",
    "    \n",
    "    print( 'elapsed time : {}'.format(elapsedTime) )\n",
    "    \n",
    "    return accuracies, particles, velocities, particleSizes, particleColors, bestParticleIndex, bestParamIndex, particleBoostingRounds, trainingTimes, predictionHistory, elapsedTime"
   ]
  },
  {
   "cell_type": "markdown",
   "metadata": {},
   "source": [
    "## Settings for HPO"
   ]
  },
  {
   "cell_type": "code",
   "execution_count": 43,
   "metadata": {},
   "outputs": [],
   "source": [
    "nTimesteps = 1\n",
    "nParticles = 16"
   ]
  },
  {
   "cell_type": "code",
   "execution_count": 44,
   "metadata": {},
   "outputs": [],
   "source": [
    "paramRanges = { 0: ['max_depth', 3, 15, 'int'],\n",
    "                1: ['learning_rate', .001, 1, 'float'],\n",
    "                2: ['lambda', 0, 10, 'float'] }"
   ]
  },
  {
   "cell_type": "markdown",
   "metadata": {},
   "source": [
    "### Run HPO"
   ]
  },
  {
   "cell_type": "code",
   "execution_count": 45,
   "metadata": {},
   "outputs": [
    {
     "data": {
      "application/vnd.jupyter.widget-view+json": {
       "model_id": "bea00cc06b884bc98a19c9bdda1305dc",
       "version_major": 2,
       "version_minor": 0
      },
      "text/plain": [
       "VBox(children=(Figure(camera=PerspectiveCamera(fov=46.0, position=(0.0, 0.0, 2.0), quaternion=(0.0, 0.0, 0.0, …"
      ]
     },
     "metadata": {},
     "output_type": "display_data"
    },
    {
     "name": "stderr",
     "output_type": "stream",
     "text": [
      "distributed.nanny - WARNING - Restarting worker\n"
     ]
    },
    {
     "name": "stdout",
     "output_type": "stream",
     "text": [
      "@ hpo timestep : 0, best accuracy is 0.8471085\n",
      "highest accuracy               :  0.8471085 \n",
      "   @ timestep 0, particle 11 \n",
      "\n",
      "best model tree depth          :  15.0 \n",
      "best model learning rate       :  0.334 \n",
      "best model regularization      :  10.0 \n",
      "best model num boosting rounds :  480 \n",
      "elapsed time : 674.3164970874786\n"
     ]
    }
   ],
   "source": [
    "accuracies, particles, velocities, particleSizes, particleColors, bestParticleIndex, \\\n",
    "bestParamIndex, particleBoostingRounds, trainingTimes, predictionHistory, elapsedTime = run_hpo ( client, nTimesteps, \n",
    "                                                                                                  nParticles,\n",
    "                                                                                                  paramRanges, \n",
    "                                                                                                  trainData_cDF, trainLabels_cDF, testData_cDF, testLabels_cDF )"
   ]
  },
  {
   "cell_type": "markdown",
   "metadata": {},
   "source": [
    "### Visualize search"
   ]
  },
  {
   "cell_type": "code",
   "execution_count": 46,
   "metadata": {},
   "outputs": [
    {
     "data": {
      "image/png": "[encoded data removed]",
      "text/plain": [
       "<Figure size 2160x1440 with 4 Axes>"
      ]
     },
     "metadata": {
      "needs_background": "light"
     },
     "output_type": "display_data"
    }
   ],
   "source": [
    "rl.viz_search( accuracies, particleBoostingRounds )"
   ]
  },
  {
   "cell_type": "code",
   "execution_count": 47,
   "metadata": {},
   "outputs": [
    {
     "data": {
      "application/vnd.jupyter.widget-view+json": {
       "model_id": "789a49bd60c64584811b3971ff0bb3f5",
       "version_major": 2,
       "version_minor": 0
      },
      "text/plain": [
       "VBox(children=(Figure(animation=600.0, camera=PerspectiveCamera(fov=46.0, position=(0.0, 0.0, 2.0), quaternion…"
      ]
     },
     "metadata": {},
     "output_type": "display_data"
    }
   ],
   "source": [
    "rl.hpo_animate (particles, particleSizes, particleColors, paramRanges, nTimesteps = nTimesteps )"
   ]
  },
  {
   "cell_type": "markdown",
   "metadata": {},
   "source": [
    "## Appendix"
   ]
  },
  {
   "cell_type": "code",
   "execution_count": 48,
   "metadata": {},
   "outputs": [],
   "source": [
    "# 1 -- use non-synthetic dataset\n",
    "# 2 -- kubernetes"
   ]
  }
 ],
 "metadata": {
  "kernelspec": {
   "display_name": "Python 3",
   "language": "python",
   "name": "python3"
  },
  "language_info": {
   "codemirror_mode": {
    "name": "ipython",
    "version": 3
   },
   "file_extension": ".py",
   "mimetype": "text/x-python",
   "name": "python",
   "nbconvert_exporter": "python",
   "pygments_lexer": "ipython3",
   "version": "3.6.7"
  }
 },
 "nbformat": 4,
 "nbformat_minor": 4
}
