{
 "cells": [
  {
   "cell_type": "code",
   "execution_count": 13,
   "metadata": {},
   "outputs": [
    {
     "name": "stdout",
     "output_type": "stream",
     "text": [
      "usage: main.py [-h] [--coil_type COIL_TYPE] [--num_blobs NUM_BLOBS]\n",
      "               [--num_coordinates NUM_COORDINATES] [--sdev_scale SDEV_SCALE]\n",
      "               [--noise_scale NOISE_SCALE] [--coil_density COIL_DENSITY]\n",
      "               [--train_test_overlap TRAIN_TEST_OVERLAP] [--num_gpus NUM_GPUS]\n",
      "               [--num_timesteps NUM_TIMESTEPS]\n",
      "\n",
      "Perform hyper-parameter optimization using Dask\n",
      "\n",
      "optional arguments:\n",
      "  -h, --help            show this help message and exit\n",
      "  --coil_type COIL_TYPE\n",
      "                        the type of coil to generate the data (default: helix)\n",
      "  --num_blobs NUM_BLOBS\n",
      "                        the number of blobs generated on the GPU (default:\n",
      "                        1000)\n",
      "  --num_coordinates NUM_COORDINATES\n",
      "                        the number of starting locations of each blob\n",
      "                        (default: 400)\n",
      "  --sdev_scale SDEV_SCALE\n",
      "                        standard deviation of normals used to generate data\n",
      "                        (default: 0.3)\n",
      "  --noise_scale NOISE_SCALE\n",
      "                        additional noise (default: 0.1)\n",
      "  --coil_density COIL_DENSITY\n",
      "                        how tight the coils are (default: 12.0)\n",
      "  --train_test_overlap TRAIN_TEST_OVERLAP\n",
      "                        percentage of train and test distribution that\n",
      "                        overlaps (default: 0.05)\n",
      "  --num_gpus NUM_GPUS   the number of gpus to use (default: 1)\n",
      "  --num_timesteps NUM_TIMESTEPS\n",
      "                        the number of timesteps to run HPO (default: 10)\n"
     ]
    }
   ],
   "source": [
    "!python main.py --help"
   ]
  },
  {
   "cell_type": "code",
   "execution_count": 3,
   "metadata": {},
   "outputs": [
    {
     "name": "stdout",
     "output_type": "stream",
     "text": [
      "Launching Dask cluster with 4 GPUs\n",
      "<Client: scheduler='tcp://192.168.99.2:40907' processes=4 cores=4>\n",
      "generating blobs; # points = 400000\n",
      "generating blobs; # points = 400000\n",
      "time to generate data on GPU = 1.1876380443572998\n",
      "splitting data into training and test set\n",
      "rescaling data\n",
      "rescaling data\n",
      "@ hpo timestep : 0, best accuracy is 0.9477\n",
      "\t updating best GLOBAL accuracy\n",
      "@ hpo timestep : 1, best accuracy is 0.9516625\n",
      "\t updating best GLOBAL accuracy\n",
      "@ hpo timestep : 2, best accuracy is 0.9520625\n",
      "\t updating best GLOBAL accuracy\n",
      "@ hpo timestep : 3, best accuracy is 0.9498375\n",
      "@ hpo timestep : 4, best accuracy is 0.9516625\n",
      "@ hpo timestep : 5, best accuracy is 0.50445\n",
      "@ hpo timestep : 6, best accuracy is 0.9516625\n",
      "@ hpo timestep : 7, best accuracy is 0.9545\n",
      "\t updating best GLOBAL accuracy\n",
      "@ hpo timestep : 8, best accuracy is 0.9520625\n",
      "@ hpo timestep : 9, best accuracy is 0.9515375\n",
      "highest accuracy               :  0.9545 \n",
      "   @ timestep 7, particle 21 \n",
      "\n",
      "best model tree depth          :  6.0 \n",
      "best model learning rate       :  0.6801747236792569 \n",
      "best model regularization      :  1.0 \n",
      "best model num boosting rounds :  32 \n",
      "elapsed time : 35.21439480781555\n"
     ]
    }
   ],
   "source": [
    "!python main.py --num_gpus 4 --num_timesteps 10 --coil_type 'helix'"
   ]
  },
  {
   "cell_type": "code",
   "execution_count": null,
   "metadata": {},
   "outputs": [],
   "source": []
  }
 ],
 "metadata": {
  "kernelspec": {
   "display_name": "Python 3",
   "language": "python",
   "name": "python3"
  },
  "language_info": {
   "codemirror_mode": {
    "name": "ipython",
    "version": 3
   },
   "file_extension": ".py",
   "mimetype": "text/x-python",
   "name": "python",
   "nbconvert_exporter": "python",
   "pygments_lexer": "ipython3",
   "version": "3.6.7"
  }
 },
 "nbformat": 4,
 "nbformat_minor": 4
}
