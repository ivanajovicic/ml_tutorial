{
 "cells": [
  {
   "cell_type": "code",
   "execution_count": 23,
   "metadata": {},
   "outputs": [
    {
     "name": "stdout",
     "output_type": "stream",
     "text": [
      "373M\tX_test.csv\n",
      "1.5G\tX_train.csv\n",
      "12K\tdata_train.csv\n",
      "4.0K\tlabels_train.csv\n",
      "392K\ty_test.csv\n",
      "1.6M\ty_train.csv\n"
     ]
    }
   ],
   "source": [
    "!du -h *csv"
   ]
  },
  {
   "cell_type": "code",
   "execution_count": 24,
   "metadata": {},
   "outputs": [],
   "source": [
    "import time\n",
    "import pandas as pd\n",
    "import cudf "
   ]
  },
  {
   "cell_type": "markdown",
   "metadata": {},
   "source": [
    "Load Data"
   ]
  },
  {
   "cell_type": "code",
   "execution_count": 25,
   "metadata": {},
   "outputs": [
    {
     "name": "stdout",
     "output_type": "stream",
     "text": [
      "CPU times: user 21.8 s, sys: 983 ms, total: 22.8 s\n",
      "Wall time: 22.8 s\n"
     ]
    }
   ],
   "source": [
    "%%time \n",
    "startTime = time.time()\n",
    "\n",
    "pd_X_train = pd.read_csv('X_train.csv',  delimiter=',')\n",
    "pd_X_test = pd.read_csv('X_test.csv',  delimiter=',')\n",
    "pd_y_train = pd.read_csv('y_train.csv',  delimiter=',')\n",
    "pd_y_test = pd.read_csv('y_test.csv',  delimiter=',')\n",
    "\n",
    "pandasIngestionTime = time.time() - startTime"
   ]
  },
  {
   "cell_type": "code",
   "execution_count": 26,
   "metadata": {},
   "outputs": [],
   "source": [
    "# get column-names\n",
    "f = open('X_train.csv'); colNames = f.readline().strip().split(','); f.close()"
   ]
  },
  {
   "cell_type": "code",
   "execution_count": 27,
   "metadata": {},
   "outputs": [
    {
     "name": "stdout",
     "output_type": "stream",
     "text": [
      "          0         1         2         3         4         5         6  \\\n",
      "0  0.941829 -0.093390 -0.505745 -2.439562  0.893414 -2.263867  0.178451   \n",
      "1  1.168042  0.509638  0.268890  1.051063 -0.040841 -0.691371  0.400917   \n",
      "2  0.851839 -0.776985  0.270799 -0.132706 -0.703299  0.809742  0.771691   \n",
      "3  0.875950 -1.339289  1.293784 -0.553762  0.854133 -1.594245 -0.188959   \n",
      "4  1.014843 -1.156867 -1.379096  0.947205 -1.103595 -0.292171 -1.328706   \n",
      "\n",
      "          7         8         9  ...        90        91        92        93  \\\n",
      "0  1.382406 -1.185491  0.003297  ...  1.360649 -4.215498 -3.769653 -0.849825   \n",
      "1  2.329213 -2.178152 -0.024289  ...  0.397027  0.258561 -0.141191  0.339818   \n",
      "2 -0.608898  0.462701 -0.192927  ... -0.831827 -3.102143 -1.265972 -0.836203   \n",
      "3  1.186717 -0.237030 -0.472262  ...  0.783765  0.806898 -1.345133 -0.023384   \n",
      "4  2.071202 -0.820546  0.928116  ...  1.008966 -0.798229  0.193988  2.096152   \n",
      "\n",
      "         94        95         96        97        98        99  \n",
      "0  0.105670 -0.015594  -1.432040 -1.281231  2.220540  6.588395  \n",
      "1  0.318550  1.054730   0.657317  0.770392 -0.524579 -0.873488  \n",
      "2  0.889118  0.771205   4.065347  1.767655 -0.007351 -0.545257  \n",
      "3 -0.536072  1.160522 -16.059209 -1.762858 -0.191992  5.341535  \n",
      "4  0.305266 -0.767236   3.446734 -0.964380 -0.961209  2.696473  \n",
      "\n",
      "[5 rows x 100 columns]\n",
      "['0', '1', '2', '3', '4', '5', '6', '7', '8', '9', '10', '11', '12', '13', '14', '15', '16', '17', '18', '19', '20', '21', '22', '23', '24', '25', '26', '27', '28', '29', '30', '31', '32', '33', '34', '35', '36', '37', '38', '39', '40', '41', '42', '43', '44', '45', '46', '47', '48', '49', '50', '51', '52', '53', '54', '55', '56', '57', '58', '59', '60', '61', '62', '63', '64', '65', '66', '67', '68', '69', '70', '71', '72', '73', '74', '75', '76', '77', '78', '79', '80', '81', '82', '83', '84', '85', '86', '87', '88', '89', '90', '91', '92', '93', '94', '95', '96', '97', '98', '99']\n"
     ]
    }
   ],
   "source": [
    "print(pd_X_test.head())\n",
    "print(colNames)"
   ]
  },
  {
   "cell_type": "code",
   "execution_count": 30,
   "metadata": {},
   "outputs": [
    {
     "name": "stdout",
     "output_type": "stream",
     "text": [
      "CPU times: user 1.22 s, sys: 440 ms, total: 1.66 s\n",
      "Wall time: 1.66 s\n"
     ]
    }
   ],
   "source": [
    "%%time\n",
    "startTime = time.time()\n",
    "\n",
    "cudf_X_train = cudf.read_csv('X_train.csv', delimiter=',' ,names=colNames)\n",
    "cudf_X_test = cudf.read_csv('X_test.csv', delimiter=',', names=colNames)\n",
    "cudf_y_train = cudf.read_csv('y_train.csv')\n",
    "cudf_y_test = cudf.read_csv('y_test.csv')\n",
    "\n",
    "rapidsIngestionTime = time.time() - startTime\n"
   ]
  },
  {
   "cell_type": "code",
   "execution_count": 34,
   "metadata": {},
   "outputs": [
    {
     "name": "stdout",
     "output_type": "stream",
     "text": [
      "Speedup: 13.74490051114476 times\n"
     ]
    }
   ],
   "source": [
    "print (\"Speedup: \" + str(pandasIngestionTime/rapidsIngestionTime) + \" times\")"
   ]
  },
  {
   "cell_type": "code",
   "execution_count": null,
   "metadata": {},
   "outputs": [],
   "source": []
  }
 ],
 "metadata": {
  "kernelspec": {
   "display_name": "Python 3",
   "language": "python",
   "name": "python3"
  },
  "language_info": {
   "codemirror_mode": {
    "name": "ipython",
    "version": 3
   },
   "file_extension": ".py",
   "mimetype": "text/x-python",
   "name": "python",
   "nbconvert_exporter": "python",
   "pygments_lexer": "ipython3",
   "version": "3.6.9"
  }
 },
 "nbformat": 4,
 "nbformat_minor": 4
}
