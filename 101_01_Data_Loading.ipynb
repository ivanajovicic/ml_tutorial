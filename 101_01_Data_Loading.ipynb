{
 "cells": [
  {
   "cell_type": "markdown",
   "metadata": {},
   "source": [
    "## Import Libraries\n"
   ]
  },
  {
   "cell_type": "markdown",
   "metadata": {},
   "source": [
    "Built in Python imports"
   ]
  },
  {
   "cell_type": "code",
   "execution_count": 2,
   "metadata": {},
   "outputs": [],
   "source": [
    "import time"
   ]
  },
  {
   "cell_type": "markdown",
   "metadata": {},
   "source": [
    "Additional CPU imports"
   ]
  },
  {
   "cell_type": "code",
   "execution_count": 8,
   "metadata": {},
   "outputs": [],
   "source": [
    "import pandas as pd"
   ]
  },
  {
   "cell_type": "markdown",
   "metadata": {},
   "source": [
    "Imports for GPU accelerated data manipulation"
   ]
  },
  {
   "cell_type": "code",
   "execution_count": 9,
   "metadata": {},
   "outputs": [],
   "source": [
    "import cudf"
   ]
  },
  {
   "cell_type": "markdown",
   "metadata": {},
   "source": [
    "Let's first check the size of data"
   ]
  },
  {
   "cell_type": "code",
   "execution_count": 10,
   "metadata": {},
   "outputs": [
    {
     "name": "stdout",
     "output_type": "stream",
     "text": [
      "3.7G\tX_test.csv\n",
      "15G\tX_train.csv\n",
      "12K\tdata_train.csv\n",
      "4.0K\tlabels_train.csv\n",
      "3.9M\ty_test.csv\n",
      "16M\ty_train.csv\n"
     ]
    }
   ],
   "source": [
    "!du -h *csv"
   ]
  },
  {
   "cell_type": "markdown",
   "metadata": {},
   "source": [
    "On the left side of the screen you click on the third icon on the ribbon \" Systems Dashboard\". Before we move forward let's choose to monitor the following : \n",
    "- GPU Utilization,\n",
    "- GPU Memory , and \n",
    "- Machine Resources\n",
    "\n",
    "Organize your dashboard to look something similar to the picture below in order to monitor both GPU/CPU utilization and memory\n",
    "\n",
    "<import example> \n"
   ]
  },
  {
   "cell_type": "markdown",
   "metadata": {},
   "source": [
    "![System Monitoring Tool](pics/jupyter_metrics.JPG)"
   ]
  },
  {
   "cell_type": "markdown",
   "metadata": {},
   "source": [
    "### Data Loading"
   ]
  },
  {
   "cell_type": "markdown",
   "metadata": {},
   "source": [
    "#### Inesting Data to CPU (with Pandas)"
   ]
  },
  {
   "cell_type": "code",
   "execution_count": 11,
   "metadata": {},
   "outputs": [
    {
     "name": "stdout",
     "output_type": "stream",
     "text": [
      "CPU times: user 3min 34s, sys: 10.3 s, total: 3min 44s\n",
      "Wall time: 3min 44s\n"
     ]
    }
   ],
   "source": [
    "%%time \n",
    "startTime = time.time()\n",
    "\n",
    "pd_X_train = pd.read_csv('X_train.csv',  delimiter=',')\n",
    "pd_X_test = pd.read_csv('X_test.csv',  delimiter=',')\n",
    "pd_y_train = pd.read_csv('y_train.csv',  delimiter=',')\n",
    "pd_y_test = pd.read_csv('y_test.csv',  delimiter=',')\n",
    "\n",
    "pandasIngestionTime = time.time() - startTime"
   ]
  },
  {
   "cell_type": "code",
   "execution_count": 14,
   "metadata": {},
   "outputs": [],
   "source": [
    "# get column-names\n",
    "f = open('X_train.csv'); colNames = f.readline().strip().split(','); f.close()"
   ]
  },
  {
   "cell_type": "code",
   "execution_count": 15,
   "metadata": {},
   "outputs": [
    {
     "name": "stdout",
     "output_type": "stream",
     "text": [
      "          0         1         2         3         4         5         6  \\\n",
      "0  0.670058 -1.859912  0.063345 -0.058774 -1.140733 -1.823409  2.955826   \n",
      "1  0.541011 -0.640779 -2.529692 -0.095277 -0.859199  1.312963 -1.366157   \n",
      "2  0.837377  0.229495 -2.720285  0.981766 -0.276864  3.897524  1.300951   \n",
      "3  0.504009  1.036047  0.520898 -1.051878  0.703976 -1.741819 -0.497386   \n",
      "4 -0.714449  0.738059  1.152200 -2.178195  0.109703  3.004815 -0.689013   \n",
      "\n",
      "           7         8         9  ...        90        91        92        93  \\\n",
      "0  -7.619368  0.079055 -1.387269  ...  1.104916  2.393499  1.396260  1.634111   \n",
      "1 -11.585149 -0.900391  1.442313  ...  0.484219  0.249315  0.665870  0.610189   \n",
      "2  -1.181854 -0.546984 -0.233786  ... -1.920364 -0.058831  0.660443  1.085420   \n",
      "3   4.126028 -0.749677 -0.991159  ...  1.813608 -1.878370 -0.234236  1.032013   \n",
      "4   9.311416 -2.204720 -0.241878  ...  2.432859  0.976044 -1.300701  0.655661   \n",
      "\n",
      "         94        95        96        97        98        99  \n",
      "0 -0.437805 -0.489586 -0.841948  1.836016  0.315879 -1.935684  \n",
      "1 -0.730010 -0.607830  0.265123  6.552200 -0.247538 -3.718283  \n",
      "2 -0.297212 -1.127771 -0.235153  9.220093  0.011133 -1.295117  \n",
      "3  0.914825  0.024950 -0.326145 -2.962830  0.403679 -1.690057  \n",
      "4  0.269229  2.122565  0.101573 -8.508703 -0.420873 -0.238334  \n",
      "\n",
      "[5 rows x 100 columns]\n",
      "['0', '1', '2', '3', '4', '5', '6', '7', '8', '9', '10', '11', '12', '13', '14', '15', '16', '17', '18', '19', '20', '21', '22', '23', '24', '25', '26', '27', '28', '29', '30', '31', '32', '33', '34', '35', '36', '37', '38', '39', '40', '41', '42', '43', '44', '45', '46', '47', '48', '49', '50', '51', '52', '53', '54', '55', '56', '57', '58', '59', '60', '61', '62', '63', '64', '65', '66', '67', '68', '69', '70', '71', '72', '73', '74', '75', '76', '77', '78', '79', '80', '81', '82', '83', '84', '85', '86', '87', '88', '89', '90', '91', '92', '93', '94', '95', '96', '97', '98', '99']\n"
     ]
    }
   ],
   "source": [
    "print(pd_X_test.head())\n",
    "print(colNames)"
   ]
  },
  {
   "cell_type": "code",
   "execution_count": 16,
   "metadata": {},
   "outputs": [],
   "source": [
    "#### Ingesting Data to GPU (using cuDF)"
   ]
  },
  {
   "cell_type": "code",
   "execution_count": 17,
   "metadata": {},
   "outputs": [
    {
     "name": "stdout",
     "output_type": "stream",
     "text": [
      "CPU times: user 11.5 s, sys: 3.95 s, total: 15.4 s\n",
      "Wall time: 15.4 s\n"
     ]
    }
   ],
   "source": [
    "%%time\n",
    "startTime = time.time()\n",
    "\n",
    "cudf_X_train = cudf.read_csv('X_train.csv', delimiter=',' ,names=colNames)\n",
    "cudf_X_test = cudf.read_csv('X_test.csv', delimiter=',', names=colNames)\n",
    "cudf_y_train = cudf.read_csv('y_train.csv')\n",
    "cudf_y_test = cudf.read_csv('y_test.csv')\n",
    "\n",
    "rapidsIngestionTime = time.time() - startTime\n"
   ]
  },
  {
   "cell_type": "code",
   "execution_count": 18,
   "metadata": {},
   "outputs": [
    {
     "name": "stdout",
     "output_type": "stream",
     "text": [
      "Speedup: 14.54421828327231 times\n"
     ]
    }
   ],
   "source": [
    "print (\"Speedup: \" + str(pandasIngestionTime/rapidsIngestionTime) + \" times\")"
   ]
  },
  {
   "cell_type": "code",
   "execution_count": null,
   "metadata": {},
   "outputs": [],
   "source": []
  }
 ],
 "metadata": {
  "kernelspec": {
   "display_name": "Python 3",
   "language": "python",
   "name": "python3"
  },
  "language_info": {
   "codemirror_mode": {
    "name": "ipython",
    "version": 3
   },
   "file_extension": ".py",
   "mimetype": "text/x-python",
   "name": "python",
   "nbconvert_exporter": "python",
   "pygments_lexer": "ipython3",
   "version": "3.6.9"
  }
 },
 "nbformat": 4,
 "nbformat_minor": 4
}
