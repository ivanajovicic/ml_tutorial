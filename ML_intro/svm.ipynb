{
 "cells": [
  {
   "cell_type": "markdown",
   "metadata": {},
   "source": [
    "## Suport Vector Machine with Titanic Dataset"
   ]
  },
  {
   "cell_type": "markdown",
   "metadata": {},
   "source": [
    "Titanic Dataset contains data for 891 of the real Titanic passengers. Each row represents a single person. The columns describe different attributes about the person including whether they survived, their age, their passenger-class, their sex, the fare they paid etc.\n",
    "\n",
    "In this notebook we will use SVM classification model to predict who survived the disaster. "
   ]
  },
  {
   "cell_type": "markdown",
   "metadata": {},
   "source": [
    "### About the alogrithm"
   ]
  },
  {
   "cell_type": "markdown",
   "metadata": {},
   "source": [
    "Classifying data is a common task in machine learning. Suppose some given data points each belong to one of two classes, and the goal is to decide which class a new data point will be in. In the case of support-vector machines, a data point is viewed as a *p*-dimensional vector (a list of *p* numbers), and we want to know whether we can separate such points with a *(p-1)*-dimensional hyperplane. \n",
    "\n",
    "( Wikipedia: https://en.wikipedia.org/wiki/Support-vector_machine)\n",
    "\n",
    "Support Vector Machine (SVM) is a supervised machine learning algorithm which can be used for both classification or regression challenges. Support Vectors are simply the co-ordinates of individual observation.\n",
    "\n",
    "For more information, check out here : https://medium.com/machine-learning-101/chapter-2-svm-support-vector-machine-theory-f0812effc72"
   ]
  },
  {
   "cell_type": "code",
   "execution_count": 32,
   "metadata": {},
   "outputs": [],
   "source": [
    "import os\n",
    "path = '/rapids/notebooks/ml_tutorial/ML_intro/data/'\n",
    "if not os.path.exists(str(path + 'titanic')):\n",
    "    print(\"error, data is missing!\")"
   ]
  },
  {
   "cell_type": "markdown",
   "metadata": {},
   "source": [
    "## 1. Loading the Data"
   ]
  },
  {
   "cell_type": "code",
   "execution_count": 33,
   "metadata": {},
   "outputs": [],
   "source": [
    "import cudf\n",
    "titanic_gdf=  cudf.read_csv(str(path + 'titanic/train.csv')) #891x12"
   ]
  },
  {
   "cell_type": "markdown",
   "metadata": {},
   "source": [
    "## 2. Cleaning the Data "
   ]
  },
  {
   "cell_type": "code",
   "execution_count": 34,
   "metadata": {},
   "outputs": [],
   "source": [
    "#encoding\n",
    "survived = titanic_gdf['Survived'] == 1\n",
    "die = titanic_gdf['Survived'] == 0\n"
   ]
  },
  {
   "cell_type": "code",
   "execution_count": 35,
   "metadata": {},
   "outputs": [],
   "source": [
    "import numpy as np\n",
    "#encoding\n",
    "sex = np.zeros(len(titanic_gdf))\n",
    "sex[titanic_gdf['Sex']== 'male'] = 1\n",
    "sex[titanic_gdf['Sex']== 'female'] = 0\n",
    "titanic_gdf['Sex'] = sex"
   ]
  },
  {
   "cell_type": "code",
   "execution_count": 36,
   "metadata": {},
   "outputs": [],
   "source": [
    "#Fill the NA values with the most common one \n",
    "titanic_gdf['Embarked'] = titanic_gdf['Embarked'].fillna('S')\n",
    "#encoding\n",
    "embarked = np.zeros(len(titanic_gdf))\n",
    "embarked[titanic_gdf['Embarked']== 'S'] = 1\n",
    "embarked[titanic_gdf['Embarked']== 'C'] = 2\n",
    "embarked[titanic_gdf['Embarked']== 'Q'] = 3\n",
    "titanic_gdf['Embarked'] = embarked"
   ]
  },
  {
   "cell_type": "code",
   "execution_count": 37,
   "metadata": {},
   "outputs": [],
   "source": [
    "# Dealing with the missing values in the Age feature.\n",
    "\n",
    "titanic_gdf['Age'].fillna(titanic_gdf['Age'].mean(),inplace=True)\n",
    "age = np.zeros(len(titanic_gdf))\n",
    "#encoding\n",
    "age[titanic_gdf['Age']<20] = 1\n",
    "age[(titanic_gdf['Age']>=20)&(titanic_gdf['Age']<60)] = 2\n",
    "age[(titanic_gdf['Age']>=60)] = 3\n",
    "titanic_gdf['Age'] = age"
   ]
  },
  {
   "cell_type": "code",
   "execution_count": 38,
   "metadata": {},
   "outputs": [],
   "source": [
    "# Dropping the columns .ipynb_checkpoints/e are not useing for the analysis \n",
    "titanic_gdf = titanic_gdf.drop(columns= ['PassengerId','Name','Ticket','Cabin'])"
   ]
  },
  {
   "cell_type": "code",
   "execution_count": 39,
   "metadata": {},
   "outputs": [
    {
     "data": {
      "text/html": [
       "<div>\n",
       "<style scoped>\n",
       "    .dataframe tbody tr th:only-of-type {\n",
       "        vertical-align: middle;\n",
       "    }\n",
       "\n",
       "    .dataframe tbody tr th {\n",
       "        vertical-align: top;\n",
       "    }\n",
       "\n",
       "    .dataframe thead th {\n",
       "        text-align: right;\n",
       "    }\n",
       "</style>\n",
       "<table border=\"1\" class=\"dataframe\">\n",
       "  <thead>\n",
       "    <tr style=\"text-align: right;\">\n",
       "      <th></th>\n",
       "      <th>Survived</th>\n",
       "      <th>Pclass</th>\n",
       "      <th>Sex</th>\n",
       "      <th>Age</th>\n",
       "      <th>SibSp</th>\n",
       "      <th>Parch</th>\n",
       "      <th>Fare</th>\n",
       "      <th>Embarked</th>\n",
       "    </tr>\n",
       "  </thead>\n",
       "  <tbody>\n",
       "    <tr>\n",
       "      <th>0</th>\n",
       "      <td>0</td>\n",
       "      <td>3</td>\n",
       "      <td>1.0</td>\n",
       "      <td>2.0</td>\n",
       "      <td>1</td>\n",
       "      <td>0</td>\n",
       "      <td>7.2500</td>\n",
       "      <td>1.0</td>\n",
       "    </tr>\n",
       "    <tr>\n",
       "      <th>1</th>\n",
       "      <td>1</td>\n",
       "      <td>1</td>\n",
       "      <td>0.0</td>\n",
       "      <td>2.0</td>\n",
       "      <td>1</td>\n",
       "      <td>0</td>\n",
       "      <td>71.2833</td>\n",
       "      <td>2.0</td>\n",
       "    </tr>\n",
       "    <tr>\n",
       "      <th>2</th>\n",
       "      <td>1</td>\n",
       "      <td>3</td>\n",
       "      <td>0.0</td>\n",
       "      <td>2.0</td>\n",
       "      <td>0</td>\n",
       "      <td>0</td>\n",
       "      <td>7.9250</td>\n",
       "      <td>1.0</td>\n",
       "    </tr>\n",
       "    <tr>\n",
       "      <th>3</th>\n",
       "      <td>1</td>\n",
       "      <td>1</td>\n",
       "      <td>0.0</td>\n",
       "      <td>2.0</td>\n",
       "      <td>1</td>\n",
       "      <td>0</td>\n",
       "      <td>53.1000</td>\n",
       "      <td>1.0</td>\n",
       "    </tr>\n",
       "    <tr>\n",
       "      <th>4</th>\n",
       "      <td>0</td>\n",
       "      <td>3</td>\n",
       "      <td>1.0</td>\n",
       "      <td>2.0</td>\n",
       "      <td>0</td>\n",
       "      <td>0</td>\n",
       "      <td>8.0500</td>\n",
       "      <td>1.0</td>\n",
       "    </tr>\n",
       "  </tbody>\n",
       "</table>\n",
       "</div>"
      ],
      "text/plain": [
       "   Survived  Pclass  Sex  Age  SibSp  Parch     Fare  Embarked\n",
       "0         0       3  1.0  2.0      1      0   7.2500       1.0\n",
       "1         1       1  0.0  2.0      1      0  71.2833       2.0\n",
       "2         1       3  0.0  2.0      0      0   7.9250       1.0\n",
       "3         1       1  0.0  2.0      1      0  53.1000       1.0\n",
       "4         0       3  1.0  2.0      0      0   8.0500       1.0"
      ]
     },
     "execution_count": 39,
     "metadata": {},
     "output_type": "execute_result"
    }
   ],
   "source": [
    "titanic_gdf.head()"
   ]
  },
  {
   "cell_type": "markdown",
   "metadata": {},
   "source": [
    "## 3. Splitting the Data into Training and Testing"
   ]
  },
  {
   "cell_type": "code",
   "execution_count": 40,
   "metadata": {},
   "outputs": [],
   "source": [
    "import cudf\n",
    "from cuml.preprocessing.model_selection import train_test_split\n",
    "\n",
    "target = titanic_gdf['Survived']\n",
    "titanic_gdf = titanic_gdf.drop(['Survived'])"
   ]
  },
  {
   "cell_type": "code",
   "execution_count": 41,
   "metadata": {},
   "outputs": [],
   "source": [
    "X_train, X_test, y_train, y_test = train_test_split(titanic_gdf, target,\n",
    "                                                    train_size=0.8, shuffle = False)"
   ]
  },
  {
   "cell_type": "markdown",
   "metadata": {},
   "source": [
    "## 4. Modelling"
   ]
  },
  {
   "cell_type": "markdown",
   "metadata": {},
   "source": [
    "### 4.1. Define Parameters"
   ]
  },
  {
   "cell_type": "code",
   "execution_count": 42,
   "metadata": {},
   "outputs": [],
   "source": [
    "C = 30 #Penalty parameter C of the error term.\n",
    "tol = 1e-3   # tolerance for stopping criterion.\n",
    "kernel= 'rbf' # Specifies the kernel type to be used in the algorithm. It must be one of ‘linear’, ‘poly’, ‘rbf’, ‘sigmoid’, ‘precomputed’ or a callable.\n",
    "gamma = 0.01  # Kernel coefficient for ‘rbf’, ‘poly’ and ‘sigmoid’."
   ]
  },
  {
   "cell_type": "markdown",
   "metadata": {},
   "source": [
    "### 4.2. Fit the model"
   ]
  },
  {
   "cell_type": "code",
   "execution_count": 43,
   "metadata": {},
   "outputs": [
    {
     "data": {
      "text/plain": [
       "SVC(handle=<cuml.common.handle.Handle object at 0x7f91a1f2c3f0>, C=30, kernel='rbf', degree=3, gamma=0.01, coef0=0.0, tol=0.001, cache_size=200.0, max_iter=-1, nochange_steps=1000, verbose=False)"
      ]
     },
     "execution_count": 43,
     "metadata": {},
     "output_type": "execute_result"
    }
   ],
   "source": [
    "import cuml.svm \n",
    "cumlSVC = cuml.svm.SVC(C=C,  gamma=gamma, tol=tol, kernel=kernel)\n",
    "cumlSVC.fit(X_train, y_train)"
   ]
  },
  {
   "cell_type": "markdown",
   "metadata": {},
   "source": [
    "### 4.3. Prediction"
   ]
  },
  {
   "cell_type": "code",
   "execution_count": 44,
   "metadata": {},
   "outputs": [],
   "source": [
    "cuml_pred = cumlSVC.predict(X_test)"
   ]
  },
  {
   "cell_type": "markdown",
   "metadata": {},
   "source": [
    "### 4.4. Scoring"
   ]
  },
  {
   "cell_type": "code",
   "execution_count": 45,
   "metadata": {},
   "outputs": [
    {
     "name": "stdout",
     "output_type": "stream",
     "text": [
      "Accuracy: cumlSVC 83.79888268156425%\n"
     ]
    }
   ],
   "source": [
    "cuml_accuracy = np.sum(cuml_pred.to_array()==y_test.to_array()) / y_test.shape[0] * 100\n",
    "print(\"Accuracy: cumlSVC {}%\".format(cuml_accuracy))"
   ]
  },
  {
   "cell_type": "code",
   "execution_count": null,
   "metadata": {},
   "outputs": [],
   "source": []
  }
 ],
 "metadata": {
  "kernelspec": {
   "display_name": "Python 3",
   "language": "python",
   "name": "python3"
  },
  "language_info": {
   "codemirror_mode": {
    "name": "ipython",
    "version": 3
   },
   "file_extension": ".py",
   "mimetype": "text/x-python",
   "name": "python",
   "nbconvert_exporter": "python",
   "pygments_lexer": "ipython3",
   "version": "3.6.7"
  }
 },
 "nbformat": 4,
 "nbformat_minor": 4
}
