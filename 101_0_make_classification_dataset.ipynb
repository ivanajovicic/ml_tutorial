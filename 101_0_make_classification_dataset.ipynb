{
 "cells": [
  {
   "cell_type": "code",
   "execution_count": 1,
   "metadata": {},
   "outputs": [],
   "source": [
    "import numpy as np\n",
    "import pandas as pd\n",
    "from sklearn.datasets import make_classification"
   ]
  },
  {
   "cell_type": "code",
   "execution_count": null,
   "metadata": {},
   "outputs": [],
   "source": []
  },
  {
   "cell_type": "markdown",
   "metadata": {},
   "source": [
    "How big dataset?"
   ]
  },
  {
   "cell_type": "code",
   "execution_count": 2,
   "metadata": {},
   "outputs": [],
   "source": [
    "n_rows = int(1e7) #10M rows\n",
    "n_columns = 10\n",
    "n_classes = 2\n",
    "\n"
   ]
  },
  {
   "cell_type": "code",
   "execution_count": 3,
   "metadata": {},
   "outputs": [
    {
     "name": "stdout",
     "output_type": "stream",
     "text": [
      "         x1        x2        x3        x4        x5        x6        x7  \\\n",
      "0  0.031403 -0.317975  1.387595 -0.617398  0.257575  0.798436  2.161867   \n",
      "1 -0.905515 -0.336425 -0.198224 -0.736761  0.511082 -1.846764 -1.226325   \n",
      "2  1.602561 -1.429310 -1.017054  0.879165 -1.087433 -0.241500 -0.156991   \n",
      "3 -0.029822 -0.597028  0.079697 -1.140050  1.437895 -0.160593  0.597576   \n",
      "4  0.086742  1.364558  0.833088  0.154327 -0.416569 -0.693835 -0.676820   \n",
      "\n",
      "         x8        x9       x10  y  \n",
      "0  0.746464 -1.997186 -0.457303  1  \n",
      "1  0.883645  1.093596 -0.541674  1  \n",
      "2 -0.750830  0.237918  0.474435  0  \n",
      "3  1.380014 -1.129570 -0.845356  1  \n",
      "4 -0.399703  2.351056  0.234998  0  \n"
     ]
    }
   ],
   "source": [
    "df = make_classification(n_samples=n_rows, \n",
    "                         n_features=n_columns,\n",
    "                         n_classes=n_classes, \n",
    "                         class_sep = 1.0,\n",
    "                         shuffle=True,\n",
    "                         random_state=1)\n",
    "\n",
    "pd_df = pd.DataFrame(df[0],columns=['x'+str(i) for i in range(1,n_columns+1)])\n",
    "pd_df['y'] = df[1]\n",
    "print(pd_df.head())"
   ]
  },
  {
   "cell_type": "markdown",
   "metadata": {},
   "source": [
    "###  1. Train / Test split "
   ]
  },
  {
   "cell_type": "code",
   "execution_count": 4,
   "metadata": {},
   "outputs": [],
   "source": [
    "X, y = df[0],df[1]"
   ]
  },
  {
   "cell_type": "code",
   "execution_count": 5,
   "metadata": {},
   "outputs": [],
   "source": [
    "from sklearn.model_selection import train_test_split\n",
    "\n",
    "X_train, X_test, y_train, y_test = train_test_split(X, y, test_size=0.2, random_state=123)"
   ]
  },
  {
   "cell_type": "code",
   "execution_count": 6,
   "metadata": {},
   "outputs": [
    {
     "data": {
      "text/plain": [
       "(8000000, 2000000)"
      ]
     },
     "execution_count": 6,
     "metadata": {},
     "output_type": "execute_result"
    }
   ],
   "source": [
    "len(X_train), len(X_test)\n"
   ]
  },
  {
   "cell_type": "code",
   "execution_count": 7,
   "metadata": {},
   "outputs": [
    {
     "name": "stdout",
     "output_type": "stream",
     "text": [
      "CPU times: user 3min 14s, sys: 4.23 s, total: 3min 19s\n",
      "Wall time: 3min 19s\n"
     ]
    }
   ],
   "source": [
    "%%time\n",
    "pd.DataFrame(data = X_train).to_csv('X_train.csv')\n",
    "pd.DataFrame(data = X_test).to_csv('X_test.csv')\n",
    "pd.DataFrame(data = y_train).to_csv('y_train.csv')\n",
    "pd.DataFrame(data = y_test).to_csv('y_test.csv')"
   ]
  },
  {
   "cell_type": "code",
   "execution_count": null,
   "metadata": {},
   "outputs": [],
   "source": []
  }
 ],
 "metadata": {
  "kernelspec": {
   "display_name": "Python 3",
   "language": "python",
   "name": "python3"
  },
  "language_info": {
   "codemirror_mode": {
    "name": "ipython",
    "version": 3
   },
   "file_extension": ".py",
   "mimetype": "text/x-python",
   "name": "python",
   "nbconvert_exporter": "python",
   "pygments_lexer": "ipython3",
   "version": "3.6.7"
  }
 },
 "nbformat": 4,
 "nbformat_minor": 4
}
