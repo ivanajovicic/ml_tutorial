{
 "cells": [
  {
   "cell_type": "code",
   "execution_count": 8,
   "metadata": {},
   "outputs": [],
   "source": [
    "import numpy as np\n",
    "import pandas as pd\n",
    "from sklearn.datasets import make_classification"
   ]
  },
  {
   "cell_type": "code",
   "execution_count": null,
   "metadata": {},
   "outputs": [],
   "source": []
  },
  {
   "cell_type": "markdown",
   "metadata": {},
   "source": [
    "How big dataset?"
   ]
  },
  {
   "cell_type": "code",
   "execution_count": 9,
   "metadata": {},
   "outputs": [],
   "source": [
    "n_rows = int(1e6)\n",
    "n_columns = 10\n",
    "n_classes = 2\n",
    "\n"
   ]
  },
  {
   "cell_type": "code",
   "execution_count": 10,
   "metadata": {},
   "outputs": [
    {
     "name": "stdout",
     "output_type": "stream",
     "text": [
      "         x1        x2        x3        x4        x5        x6        x7  \\\n",
      "0  0.734504  0.260465 -0.536845 -0.675378  1.928867 -0.632031 -0.875025   \n",
      "1 -0.124137 -0.153564  0.563198 -0.325484 -0.059750 -0.312705 -0.408866   \n",
      "2 -0.738923 -1.315013 -0.019497  0.286761  1.556043 -0.435042  0.511165   \n",
      "3 -1.068110  0.134736 -0.550185 -0.608933 -0.148692 -1.033522 -0.783578   \n",
      "4  2.536958  1.007170 -0.697169 -0.182280 -0.323168 -0.307742 -0.343733   \n",
      "\n",
      "         x8        x9       x10  y  \n",
      "0  1.278484 -0.875643  1.411449  1  \n",
      "1  0.779895 -0.296016  0.698385  1  \n",
      "2  1.238773  1.255966 -0.401646  1  \n",
      "3  1.221111 -0.375006  1.280177  1  \n",
      "4 -1.027434  2.622700  0.228681  0  \n"
     ]
    }
   ],
   "source": [
    "df = make_classification(n_samples=n_rows, \n",
    "                         n_features=n_columns,\n",
    "                         n_classes=n_classes, \n",
    "                         class_sep = 1.0,\n",
    "                         shuffle=True,\n",
    "                         random_state=1)\n",
    "pd_df = pd.DataFrame(df[0],columns=['x'+str(i) for i in range(1,n_columns+1)])\n",
    "pd_df['y'] = df[1]\n",
    "print(pd_df.head())"
   ]
  },
  {
   "cell_type": "markdown",
   "metadata": {},
   "source": [
    "###  1. Train / Test split "
   ]
  },
  {
   "cell_type": "code",
   "execution_count": 11,
   "metadata": {},
   "outputs": [],
   "source": [
    "X, y = df[0],df[1]"
   ]
  },
  {
   "cell_type": "code",
   "execution_count": 12,
   "metadata": {},
   "outputs": [],
   "source": [
    "from sklearn.model_selection import train_test_split\n",
    "\n",
    "X_train, X_test, y_train, y_test = train_test_split(X, y, test_size=0.2, random_state=123)"
   ]
  },
  {
   "cell_type": "code",
   "execution_count": 13,
   "metadata": {},
   "outputs": [
    {
     "data": {
      "text/plain": [
       "(800000, 200000)"
      ]
     },
     "execution_count": 13,
     "metadata": {},
     "output_type": "execute_result"
    }
   ],
   "source": [
    "len(X_train), len(X_test)\n"
   ]
  },
  {
   "cell_type": "code",
   "execution_count": 14,
   "metadata": {},
   "outputs": [
    {
     "name": "stdout",
     "output_type": "stream",
     "text": [
      "CPU times: user 19.3 s, sys: 344 ms, total: 19.7 s\n",
      "Wall time: 20.8 s\n"
     ]
    }
   ],
   "source": [
    "%%time\n",
    "pd.DataFrame(data = X_train).to_csv('X_train.csv')\n",
    "pd.DataFrame(data = X_test).to_csv('X_test.csv')\n",
    "pd.DataFrame(data = y_train).to_csv('y_train.csv')\n",
    "pd.DataFrame(data = y_test).to_csv('y_test.csv')"
   ]
  },
  {
   "cell_type": "code",
   "execution_count": null,
   "metadata": {},
   "outputs": [],
   "source": []
  }
 ],
 "metadata": {
  "kernelspec": {
   "display_name": "Python 3",
   "language": "python",
   "name": "python3"
  },
  "language_info": {
   "codemirror_mode": {
    "name": "ipython",
    "version": 3
   },
   "file_extension": ".py",
   "mimetype": "text/x-python",
   "name": "python",
   "nbconvert_exporter": "python",
   "pygments_lexer": "ipython3",
   "version": "3.6.7"
  }
 },
 "nbformat": 4,
 "nbformat_minor": 4
}
