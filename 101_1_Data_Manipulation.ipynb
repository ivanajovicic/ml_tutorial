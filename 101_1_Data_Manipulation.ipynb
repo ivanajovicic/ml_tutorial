{
 "cells": [
  {
   "cell_type": "code",
   "execution_count": 3,
   "metadata": {},
   "outputs": [
    {
     "name": "stdout",
     "output_type": "stream",
     "text": [
      "388M\tX_test.csv\n",
      "1.6G\tX_train.csv\n",
      "19M\ty_test.csv\n",
      "76M\ty_train.csv\n"
     ]
    }
   ],
   "source": [
    "!du -h *csv"
   ]
  },
  {
   "cell_type": "code",
   "execution_count": 7,
   "metadata": {},
   "outputs": [],
   "source": [
    "import time\n",
    "import pandas as pd"
   ]
  },
  {
   "cell_type": "code",
   "execution_count": 10,
   "metadata": {},
   "outputs": [
    {
     "name": "stdout",
     "output_type": "stream",
     "text": [
      "CPU times: user 21.1 s, sys: 1.17 s, total: 22.3 s\n",
      "Wall time: 22.3 s\n"
     ]
    }
   ],
   "source": [
    "%%time \n",
    "startTime = time.time()\n",
    "\n",
    "pd_X_train = pd.read_csv('X_train.csv',  delimiter=',')\n",
    "pd_X_test = pd.read_csv('X_test.csv',  delimiter=',')\n",
    "pd_y_train = pd.read_csv('y_train.csv',  delimiter=',')\n",
    "pd_y_test = pd.read_csv('y_test.csv',  delimiter=',')\n",
    "\n",
    "pandasIngestionTime = time.time() - startTime"
   ]
  },
  {
   "cell_type": "code",
   "execution_count": null,
   "metadata": {},
   "outputs": [],
   "source": []
  }
 ],
 "metadata": {
  "kernelspec": {
   "display_name": "Python 3",
   "language": "python",
   "name": "python3"
  },
  "language_info": {
   "codemirror_mode": {
    "name": "ipython",
    "version": 3
   },
   "file_extension": ".py",
   "mimetype": "text/x-python",
   "name": "python",
   "nbconvert_exporter": "python",
   "pygments_lexer": "ipython3",
   "version": "3.6.9"
  }
 },
 "nbformat": 4,
 "nbformat_minor": 4
}
