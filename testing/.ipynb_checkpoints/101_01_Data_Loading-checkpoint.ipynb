{
 "cells": [
  {
   "cell_type": "code",
   "execution_count": null,
   "metadata": {},
   "outputs": [],
   "source": [
    "!du -h *csv"
   ]
  },
  {
   "cell_type": "code",
   "execution_count": null,
   "metadata": {},
   "outputs": [],
   "source": [
    "import time\n",
    "import pandas as pd\n",
    "import cudf "
   ]
  },
  {
   "cell_type": "markdown",
   "metadata": {},
   "source": [
    "Load Data"
   ]
  },
  {
   "cell_type": "code",
   "execution_count": null,
   "metadata": {},
   "outputs": [],
   "source": [
    "%%time \n",
    "startTime = time.time()\n",
    "\n",
    "pd_X_train = pd.read_csv('X_train.csv',  delimiter=',')\n",
    "pd_X_test = pd.read_csv('X_test.csv',  delimiter=',')\n",
    "pd_y_train = pd.read_csv('y_train.csv',  delimiter=',')\n",
    "pd_y_test = pd.read_csv('y_test.csv',  delimiter=',')\n",
    "\n",
    "pandasIngestionTime = time.time() - startTime"
   ]
  },
  {
   "cell_type": "code",
   "execution_count": null,
   "metadata": {},
   "outputs": [],
   "source": [
    "# get column-names\n",
    "f = open('X_train.csv'); colNames = f.readline().strip().split(','); f.close()"
   ]
  },
  {
   "cell_type": "code",
   "execution_count": null,
   "metadata": {},
   "outputs": [],
   "source": [
    "print(pd_X_test.head())\n",
    "print(colNames)"
   ]
  },
  {
   "cell_type": "code",
   "execution_count": null,
   "metadata": {},
   "outputs": [],
   "source": [
    "%%time\n",
    "startTime = time.time()\n",
    "\n",
    "cudf_X_train = cudf.read_csv('X_train.csv', delimiter=',' ,names=colNames)\n",
    "cudf_X_test = cudf.read_csv('X_test.csv', delimiter=',', names=colNames)\n",
    "cudf_y_train = cudf.read_csv('y_train.csv')\n",
    "cudf_y_test = cudf.read_csv('y_test.csv')\n",
    "\n",
    "rapidsIngestionTime = time.time() - startTime\n"
   ]
  },
  {
   "cell_type": "code",
   "execution_count": null,
   "metadata": {},
   "outputs": [],
   "source": [
    "print (\"Speedup: \" + str(pandasIngestionTime/rapidsIngestionTime) + \" times\")"
   ]
  },
  {
   "cell_type": "code",
   "execution_count": null,
   "metadata": {},
   "outputs": [],
   "source": []
  }
 ],
 "metadata": {
  "kernelspec": {
   "display_name": "Python 3",
   "language": "python",
   "name": "python3"
  },
  "language_info": {
   "codemirror_mode": {
    "name": "ipython",
    "version": 3
   },
   "file_extension": ".py",
   "mimetype": "text/x-python",
   "name": "python",
   "nbconvert_exporter": "python",
   "pygments_lexer": "ipython3",
   "version": "3.6.9"
  }
 },
 "nbformat": 4,
 "nbformat_minor": 4
}
