{
 "cells": [
  {
   "cell_type": "code",
   "execution_count": 1,
   "metadata": {},
   "outputs": [],
   "source": [
    "import numpy as np\n",
    "import pandas as pd\n",
    "import xgboost\n",
    "from sklearn.datasets import make_classification, make_moons, make_circles\n",
    "from sklearn.preprocessing import StandardScaler"
   ]
  },
  {
   "cell_type": "code",
   "execution_count": 2,
   "metadata": {},
   "outputs": [],
   "source": [
    "%matplotlib inline\n",
    "\n",
    "import seaborn as sns\n",
    "import matplotlib.pyplot as plt\n",
    "# #!pip install plotly\n",
    "# import plotly\n",
    "# import plotly.graph_objs as go\n",
    "\n",
    "from matplotlib.colors import ListedColormap"
   ]
  },
  {
   "cell_type": "markdown",
   "metadata": {},
   "source": [
    "How big dataset?"
   ]
  },
  {
   "cell_type": "code",
   "execution_count": 3,
   "metadata": {},
   "outputs": [],
   "source": [
    "n_rows = int(1e7) #10M rows\n",
    "n_columns = int(100)\n"
   ]
  },
  {
   "cell_type": "code",
   "execution_count": null,
   "metadata": {},
   "outputs": [],
   "source": []
  },
  {
   "cell_type": "code",
   "execution_count": 4,
   "metadata": {},
   "outputs": [
    {
     "name": "stdout",
     "output_type": "stream",
     "text": [
      "         x1        x2        x3        x4        x5        x6        x7  \\\n",
      "0 -1.370742 -1.772975 -0.829608  2.349005 -1.736176 -0.448073  5.248806   \n",
      "1 -0.297964 -4.948828  1.241093 -3.420145  0.851031  1.750132 -2.434533   \n",
      "2  0.608222 -2.544593 -0.830587 -3.079229 -0.726853 -0.905495  0.979559   \n",
      "3 -0.725035 -6.537466  1.559387 -2.840466  0.804349 -2.847463  4.619241   \n",
      "4 -1.143883  1.637232 -2.996781 -1.975003 -1.419814  1.416783  1.910250   \n",
      "\n",
      "          x8        x9       x10  ...       x92       x93       x94       x95  \\\n",
      "0  -9.046057  0.331569 -0.225493  ...  1.128908  1.262270 -0.757697  0.354700   \n",
      "1  18.439125 -0.186167  0.291499  ...  1.194394 -1.362009 -1.548403 -0.606487   \n",
      "2   6.761048 -0.701558  0.200368  ... -2.472374 -1.530557  1.931904  0.848373   \n",
      "3  -5.685421 -0.149348  0.323082  ... -1.790592  0.823296  0.433844 -0.830957   \n",
      "4  -2.471237 -1.613093 -0.075801  ... -0.403387 -0.494944  0.886496  1.028674   \n",
      "\n",
      "        x96       x97        x98       x99      x100  y  \n",
      "0  1.122042  0.770766   1.532211  1.592195 -2.657943  0  \n",
      "1  0.601380  0.710288  -0.278530 -0.486170  3.234063  1  \n",
      "2 -0.819531 -0.330125 -14.753761  0.467270  1.493239  0  \n",
      "3  0.252609 -0.170584  -7.742064 -1.437700  7.139264  1  \n",
      "4 -0.583263  0.141097   6.785675 -0.287309 -7.729615  0  \n",
      "\n",
      "[5 rows x 101 columns]\n"
     ]
    }
   ],
   "source": [
    "df = make_classification(n_samples=n_rows, \n",
    "                         n_features=n_columns,\n",
    "                         n_classes=2, \n",
    "                         n_informative=int(n_columns/5),\n",
    "#                          class_sep = 1.0,\n",
    "                         random_state=np.random.RandomState(43210))\n",
    "\n",
    "\n",
    "\n",
    "    \n",
    "pd_df = pd.DataFrame(df[0],columns=['x'+str(i) for i in range(1,n_columns+1)])\n",
    "pd_df['y'] = df[1]\n",
    "print(pd_df.head())"
   ]
  },
  {
   "cell_type": "code",
   "execution_count": null,
   "metadata": {},
   "outputs": [],
   "source": []
  },
  {
   "cell_type": "markdown",
   "metadata": {},
   "source": [
    "###  1. Train / Test split "
   ]
  },
  {
   "cell_type": "code",
   "execution_count": 5,
   "metadata": {},
   "outputs": [],
   "source": [
    "X, y = df[0],df[1]"
   ]
  },
  {
   "cell_type": "code",
   "execution_count": 6,
   "metadata": {},
   "outputs": [],
   "source": [
    "from sklearn.model_selection import train_test_split\n",
    "\n",
    "X_train, X_test, y_train, y_test = train_test_split(X, y, test_size=0.2, random_state=123)"
   ]
  },
  {
   "cell_type": "markdown",
   "metadata": {},
   "source": [
    "Check dimensions"
   ]
  },
  {
   "cell_type": "code",
   "execution_count": 7,
   "metadata": {},
   "outputs": [
    {
     "name": "stdout",
     "output_type": "stream",
     "text": [
      "X_train:  (8000000, 100) float64 y_train:  (8000000,) int64\n",
      "X_validation (2000000, 100) float64 y_test:  (2000000,) int64\n"
     ]
    }
   ],
   "source": [
    "\n",
    "print('X_train: ', X_train.shape, X_train.dtype, 'y_train: ', y_train.shape, y_train.dtype)\n",
    "print('X_validation', X_test.shape, X_test.dtype, 'y_test: ', y_test.shape, y_test.dtype)"
   ]
  },
  {
   "cell_type": "markdown",
   "metadata": {},
   "source": [
    "Write the dataset to disk as csv so that we can demontrate data loading."
   ]
  },
  {
   "cell_type": "code",
   "execution_count": null,
   "metadata": {},
   "outputs": [],
   "source": [
    "%%time\n",
    "pd.DataFrame(data = X_train).to_csv('X_train.csv', index=False)\n",
    "pd.DataFrame(data = X_test).to_csv('X_test.csv',index=False)\n",
    "pd.DataFrame(data = y_train).to_csv('y_train.csv', index=False)\n",
    "pd.DataFrame(data = y_test).to_csv('y_test.csv',index=False)"
   ]
  },
  {
   "cell_type": "code",
   "execution_count": null,
   "metadata": {},
   "outputs": [],
   "source": [
    "# plt.scatter(X_train[:, 0], X_train[:, 1], c=y, cmap=cm_bright,edgecolors='k')\n",
    "cm_bright = ListedColormap(['#FF00FF', '#00FF00'])\n",
    "plt.scatter(X_train[:, 0], X_train[:, 1], c=y_train,edgecolors='k')"
   ]
  },
  {
   "cell_type": "code",
   "execution_count": null,
   "metadata": {},
   "outputs": [],
   "source": [
    "# https://github.com/rapidsai/notebooks-contrib/blob/master/getting_started_notebooks/intro_tutorials/07_Introduction_to_XGBoost.ipynb"
   ]
  },
  {
   "cell_type": "code",
   "execution_count": null,
   "metadata": {},
   "outputs": [],
   "source": []
  }
 ],
 "metadata": {
  "kernelspec": {
   "display_name": "Python 3",
   "language": "python",
   "name": "python3"
  },
  "language_info": {
   "codemirror_mode": {
    "name": "ipython",
    "version": 3
   },
   "file_extension": ".py",
   "mimetype": "text/x-python",
   "name": "python",
   "nbconvert_exporter": "python",
   "pygments_lexer": "ipython3",
   "version": "3.6.9"
  }
 },
 "nbformat": 4,
 "nbformat_minor": 4
}
