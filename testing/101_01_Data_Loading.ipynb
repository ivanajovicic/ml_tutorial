{
 "cells": [
  {
   "cell_type": "code",
   "execution_count": 1,
   "metadata": {},
   "outputs": [
    {
     "name": "stdout",
     "output_type": "stream",
     "text": [
      "384K\tX_test.csv\n",
      "1.5M\tX_train.csv\n",
      "4.0K\ty_test.csv\n",
      "4.0K\ty_train.csv\n"
     ]
    }
   ],
   "source": [
    "!du -h *csv"
   ]
  },
  {
   "cell_type": "code",
   "execution_count": 2,
   "metadata": {},
   "outputs": [],
   "source": [
    "import time\n",
    "import pandas as pd\n",
    "import cudf "
   ]
  },
  {
   "cell_type": "markdown",
   "metadata": {},
   "source": [
    "Load Data"
   ]
  },
  {
   "cell_type": "code",
   "execution_count": 3,
   "metadata": {},
   "outputs": [
    {
     "name": "stdout",
     "output_type": "stream",
     "text": [
      "CPU times: user 53.9 ms, sys: 0 ns, total: 53.9 ms\n",
      "Wall time: 52.8 ms\n"
     ]
    }
   ],
   "source": [
    "%%time \n",
    "startTime = time.time()\n",
    "\n",
    "pd_X_train = pd.read_csv('X_train.csv',  delimiter=',')\n",
    "pd_X_test = pd.read_csv('X_test.csv',  delimiter=',')\n",
    "pd_y_train = pd.read_csv('y_train.csv',  delimiter=',')\n",
    "pd_y_test = pd.read_csv('y_test.csv',  delimiter=',')\n",
    "\n",
    "pandasIngestionTime = time.time() - startTime"
   ]
  },
  {
   "cell_type": "code",
   "execution_count": 4,
   "metadata": {},
   "outputs": [],
   "source": [
    "# get column-names\n",
    "f = open('X_train.csv'); colNames = f.readline().strip().split(','); f.close()"
   ]
  },
  {
   "cell_type": "code",
   "execution_count": 5,
   "metadata": {},
   "outputs": [
    {
     "name": "stdout",
     "output_type": "stream",
     "text": [
      "          0         1         2         3         4         5         6  \\\n",
      "0 -1.379663  0.970939 -0.875951  0.717478 -0.402934 -0.665604  0.398937   \n",
      "1  0.864233  0.062425 -0.577748 -0.223575  0.343850 -0.092992  0.732445   \n",
      "2  1.468529 -1.602174  0.289539  0.640403 -0.077490  1.312689  0.525119   \n",
      "3 -0.819623  0.295631  0.496909 -0.440183 -0.443006  2.157768 -0.818177   \n",
      "4  1.756668  0.659999 -0.403785 -0.594515 -0.284347  1.305964 -0.004774   \n",
      "\n",
      "          7         8         9  ...        90        91        92        93  \\\n",
      "0 -0.233850 -1.763961 -1.461397  ...  1.989371  5.375130 -0.050555  3.661323   \n",
      "1 -0.068305 -0.991226 -0.104867  ... -0.574169  0.028857  0.833376  5.918120   \n",
      "2  1.827209  0.140357  2.187805  ...  0.887208  5.210744 -0.252186  2.468152   \n",
      "3  1.144168 -0.601895  0.721252  ... -0.631586  4.999705  2.017692  5.924141   \n",
      "4  0.449820 -1.036722 -0.016931  ...  0.067826 -3.642976  1.071886  0.058497   \n",
      "\n",
      "         94        95        96        97        98        99  \n",
      "0  2.235848 -0.266182 -0.101249 -0.078997 -1.006834 -1.251967  \n",
      "1  2.479344 -1.352594  0.265032  0.716117 -0.486527 -1.124180  \n",
      "2  0.758882  3.140898  0.128217 -0.161650 -0.315073  2.522930  \n",
      "3 -1.144174 -4.404606  0.037945 -0.752591  1.016438  4.552540  \n",
      "4  0.887218  0.292997 -1.995728  0.644167  0.201736  4.721161  \n",
      "\n",
      "[5 rows x 100 columns]\n",
      "['0', '1', '2', '3', '4', '5', '6', '7', '8', '9', '10', '11', '12', '13', '14', '15', '16', '17', '18', '19', '20', '21', '22', '23', '24', '25', '26', '27', '28', '29', '30', '31', '32', '33', '34', '35', '36', '37', '38', '39', '40', '41', '42', '43', '44', '45', '46', '47', '48', '49', '50', '51', '52', '53', '54', '55', '56', '57', '58', '59', '60', '61', '62', '63', '64', '65', '66', '67', '68', '69', '70', '71', '72', '73', '74', '75', '76', '77', '78', '79', '80', '81', '82', '83', '84', '85', '86', '87', '88', '89', '90', '91', '92', '93', '94', '95', '96', '97', '98', '99']\n"
     ]
    }
   ],
   "source": [
    "print(pd_X_test.head())\n",
    "print(colNames)"
   ]
  },
  {
   "cell_type": "code",
   "execution_count": 6,
   "metadata": {},
   "outputs": [
    {
     "name": "stdout",
     "output_type": "stream",
     "text": [
      "CPU times: user 362 ms, sys: 661 ms, total: 1.02 s\n",
      "Wall time: 1.06 s\n"
     ]
    }
   ],
   "source": [
    "%%time\n",
    "startTime = time.time()\n",
    "\n",
    "cudf_X_train = cudf.read_csv('X_train.csv', delimiter=',' ,names=colNames)\n",
    "cudf_X_test = cudf.read_csv('X_test.csv', delimiter=',', names=colNames)\n",
    "cudf_y_train = cudf.read_csv('y_train.csv')\n",
    "cudf_y_test = cudf.read_csv('y_test.csv')\n",
    "\n",
    "rapidsIngestionTime = time.time() - startTime\n"
   ]
  },
  {
   "cell_type": "code",
   "execution_count": 7,
   "metadata": {},
   "outputs": [
    {
     "name": "stdout",
     "output_type": "stream",
     "text": [
      "Speedup: 0.04983449118981795 times\n"
     ]
    }
   ],
   "source": [
    "print (\"Speedup: \" + str(pandasIngestionTime/rapidsIngestionTime) + \" times\")"
   ]
  },
  {
   "cell_type": "code",
   "execution_count": null,
   "metadata": {},
   "outputs": [],
   "source": []
  }
 ],
 "metadata": {
  "kernelspec": {
   "display_name": "Python 3",
   "language": "python",
   "name": "python3"
  },
  "language_info": {
   "codemirror_mode": {
    "name": "ipython",
    "version": 3
   },
   "file_extension": ".py",
   "mimetype": "text/x-python",
   "name": "python",
   "nbconvert_exporter": "python",
   "pygments_lexer": "ipython3",
   "version": "3.6.9"
  }
 },
 "nbformat": 4,
 "nbformat_minor": 4
}
